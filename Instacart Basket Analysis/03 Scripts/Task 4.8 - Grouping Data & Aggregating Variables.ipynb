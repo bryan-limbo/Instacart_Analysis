{
 "cells": [
  {
   "cell_type": "markdown",
   "id": "dd1653ba",
   "metadata": {},
   "source": [
    "# 01. Import libraries"
   ]
  },
  {
   "cell_type": "code",
   "execution_count": 1,
   "id": "9800ee27",
   "metadata": {},
   "outputs": [],
   "source": [
    "# import libraries\n",
    "import pandas as pd\n",
    "import numpy as np\n",
    "import os"
   ]
  },
  {
   "cell_type": "code",
   "execution_count": 2,
   "id": "cc89e405",
   "metadata": {},
   "outputs": [],
   "source": [
    "# Create a path for easier importing\n",
    "path = r'C:\\Users\\blim9\\Desktop\\Career Foundry\\Data Immersion\\Achievement 4\\Instacart Basket Analysis 2022-09-09'"
   ]
  },
  {
   "cell_type": "code",
   "execution_count": 3,
   "id": "eae2f8d4",
   "metadata": {},
   "outputs": [],
   "source": [
    "# Import the dataframe worked on this exercise\n",
    "df = pd.read_pickle(os.path.join(path, '02 Data', 'Prepared Data', 'ords_prods_revised.pkl'))"
   ]
  },
  {
   "cell_type": "code",
   "execution_count": 4,
   "id": "81864dc0",
   "metadata": {},
   "outputs": [
    {
     "data": {
      "text/plain": [
       "(32404859, 21)"
      ]
     },
     "execution_count": 4,
     "metadata": {},
     "output_type": "execute_result"
    }
   ],
   "source": [
    "df.shape"
   ]
  },
  {
   "cell_type": "code",
   "execution_count": 5,
   "id": "564bee6f",
   "metadata": {},
   "outputs": [
    {
     "data": {
      "text/html": [
       "<div>\n",
       "<style scoped>\n",
       "    .dataframe tbody tr th:only-of-type {\n",
       "        vertical-align: middle;\n",
       "    }\n",
       "\n",
       "    .dataframe tbody tr th {\n",
       "        vertical-align: top;\n",
       "    }\n",
       "\n",
       "    .dataframe thead th {\n",
       "        text-align: right;\n",
       "    }\n",
       "</style>\n",
       "<table border=\"1\" class=\"dataframe\">\n",
       "  <thead>\n",
       "    <tr style=\"text-align: right;\">\n",
       "      <th></th>\n",
       "      <th>order_id</th>\n",
       "      <th>user_id</th>\n",
       "      <th>order_number</th>\n",
       "      <th>order_day_of_week</th>\n",
       "      <th>order_hour_of_day</th>\n",
       "      <th>days_since_last_order</th>\n",
       "      <th>new_customer</th>\n",
       "      <th>product_id</th>\n",
       "      <th>add_to_cart_order</th>\n",
       "      <th>reordered</th>\n",
       "      <th>...</th>\n",
       "      <th>aisle_id</th>\n",
       "      <th>department_id</th>\n",
       "      <th>prices</th>\n",
       "      <th>_merge</th>\n",
       "      <th>prices_range_label</th>\n",
       "      <th>busiest_day</th>\n",
       "      <th>busiest_days</th>\n",
       "      <th>busiest_period_of_day</th>\n",
       "      <th>max_order</th>\n",
       "      <th>loyalty_flag</th>\n",
       "    </tr>\n",
       "  </thead>\n",
       "  <tbody>\n",
       "    <tr>\n",
       "      <th>0</th>\n",
       "      <td>2539329</td>\n",
       "      <td>1</td>\n",
       "      <td>1</td>\n",
       "      <td>2</td>\n",
       "      <td>8</td>\n",
       "      <td>NaN</td>\n",
       "      <td>True</td>\n",
       "      <td>196</td>\n",
       "      <td>1</td>\n",
       "      <td>0</td>\n",
       "      <td>...</td>\n",
       "      <td>77</td>\n",
       "      <td>7</td>\n",
       "      <td>9.0</td>\n",
       "      <td>both</td>\n",
       "      <td>Mid range product</td>\n",
       "      <td>Regularly busy</td>\n",
       "      <td>Regularly busy</td>\n",
       "      <td>Average orders</td>\n",
       "      <td>10</td>\n",
       "      <td>New customer</td>\n",
       "    </tr>\n",
       "    <tr>\n",
       "      <th>1</th>\n",
       "      <td>2398795</td>\n",
       "      <td>1</td>\n",
       "      <td>2</td>\n",
       "      <td>3</td>\n",
       "      <td>7</td>\n",
       "      <td>15.0</td>\n",
       "      <td>False</td>\n",
       "      <td>196</td>\n",
       "      <td>1</td>\n",
       "      <td>1</td>\n",
       "      <td>...</td>\n",
       "      <td>77</td>\n",
       "      <td>7</td>\n",
       "      <td>9.0</td>\n",
       "      <td>both</td>\n",
       "      <td>Mid range product</td>\n",
       "      <td>Regularly busy</td>\n",
       "      <td>Slowest days</td>\n",
       "      <td>Average orders</td>\n",
       "      <td>10</td>\n",
       "      <td>New customer</td>\n",
       "    </tr>\n",
       "    <tr>\n",
       "      <th>2</th>\n",
       "      <td>473747</td>\n",
       "      <td>1</td>\n",
       "      <td>3</td>\n",
       "      <td>3</td>\n",
       "      <td>12</td>\n",
       "      <td>21.0</td>\n",
       "      <td>False</td>\n",
       "      <td>196</td>\n",
       "      <td>1</td>\n",
       "      <td>1</td>\n",
       "      <td>...</td>\n",
       "      <td>77</td>\n",
       "      <td>7</td>\n",
       "      <td>9.0</td>\n",
       "      <td>both</td>\n",
       "      <td>Mid range product</td>\n",
       "      <td>Regularly busy</td>\n",
       "      <td>Slowest days</td>\n",
       "      <td>Most orders</td>\n",
       "      <td>10</td>\n",
       "      <td>New customer</td>\n",
       "    </tr>\n",
       "    <tr>\n",
       "      <th>3</th>\n",
       "      <td>2254736</td>\n",
       "      <td>1</td>\n",
       "      <td>4</td>\n",
       "      <td>4</td>\n",
       "      <td>7</td>\n",
       "      <td>29.0</td>\n",
       "      <td>False</td>\n",
       "      <td>196</td>\n",
       "      <td>1</td>\n",
       "      <td>1</td>\n",
       "      <td>...</td>\n",
       "      <td>77</td>\n",
       "      <td>7</td>\n",
       "      <td>9.0</td>\n",
       "      <td>both</td>\n",
       "      <td>Mid range product</td>\n",
       "      <td>Least busy</td>\n",
       "      <td>Slowest days</td>\n",
       "      <td>Average orders</td>\n",
       "      <td>10</td>\n",
       "      <td>New customer</td>\n",
       "    </tr>\n",
       "    <tr>\n",
       "      <th>4</th>\n",
       "      <td>431534</td>\n",
       "      <td>1</td>\n",
       "      <td>5</td>\n",
       "      <td>4</td>\n",
       "      <td>15</td>\n",
       "      <td>28.0</td>\n",
       "      <td>False</td>\n",
       "      <td>196</td>\n",
       "      <td>1</td>\n",
       "      <td>1</td>\n",
       "      <td>...</td>\n",
       "      <td>77</td>\n",
       "      <td>7</td>\n",
       "      <td>9.0</td>\n",
       "      <td>both</td>\n",
       "      <td>Mid range product</td>\n",
       "      <td>Least busy</td>\n",
       "      <td>Slowest days</td>\n",
       "      <td>Most orders</td>\n",
       "      <td>10</td>\n",
       "      <td>New customer</td>\n",
       "    </tr>\n",
       "  </tbody>\n",
       "</table>\n",
       "<p>5 rows × 21 columns</p>\n",
       "</div>"
      ],
      "text/plain": [
       "   order_id  user_id  order_number  order_day_of_week  order_hour_of_day  \\\n",
       "0   2539329        1             1                  2                  8   \n",
       "1   2398795        1             2                  3                  7   \n",
       "2    473747        1             3                  3                 12   \n",
       "3   2254736        1             4                  4                  7   \n",
       "4    431534        1             5                  4                 15   \n",
       "\n",
       "   days_since_last_order  new_customer  product_id  add_to_cart_order  \\\n",
       "0                    NaN          True         196                  1   \n",
       "1                   15.0         False         196                  1   \n",
       "2                   21.0         False         196                  1   \n",
       "3                   29.0         False         196                  1   \n",
       "4                   28.0         False         196                  1   \n",
       "\n",
       "   reordered  ... aisle_id  department_id  prices  _merge prices_range_label  \\\n",
       "0          0  ...       77              7     9.0    both  Mid range product   \n",
       "1          1  ...       77              7     9.0    both  Mid range product   \n",
       "2          1  ...       77              7     9.0    both  Mid range product   \n",
       "3          1  ...       77              7     9.0    both  Mid range product   \n",
       "4          1  ...       77              7     9.0    both  Mid range product   \n",
       "\n",
       "      busiest_day    busiest_days busiest_period_of_day max_order  \\\n",
       "0  Regularly busy  Regularly busy        Average orders        10   \n",
       "1  Regularly busy    Slowest days        Average orders        10   \n",
       "2  Regularly busy    Slowest days           Most orders        10   \n",
       "3      Least busy    Slowest days        Average orders        10   \n",
       "4      Least busy    Slowest days           Most orders        10   \n",
       "\n",
       "   loyalty_flag  \n",
       "0  New customer  \n",
       "1  New customer  \n",
       "2  New customer  \n",
       "3  New customer  \n",
       "4  New customer  \n",
       "\n",
       "[5 rows x 21 columns]"
      ]
     },
     "execution_count": 5,
     "metadata": {},
     "output_type": "execute_result"
    }
   ],
   "source": [
    "df.head()"
   ]
  },
  {
   "cell_type": "markdown",
   "id": "5a964150",
   "metadata": {},
   "source": [
    "# 02. Task 4.8 "
   ]
  },
  {
   "cell_type": "code",
   "execution_count": 7,
   "id": "7d9ed709",
   "metadata": {},
   "outputs": [
    {
     "data": {
      "text/html": [
       "<div>\n",
       "<style scoped>\n",
       "    .dataframe tbody tr th:only-of-type {\n",
       "        vertical-align: middle;\n",
       "    }\n",
       "\n",
       "    .dataframe tbody tr th {\n",
       "        vertical-align: top;\n",
       "    }\n",
       "\n",
       "    .dataframe thead tr th {\n",
       "        text-align: left;\n",
       "    }\n",
       "\n",
       "    .dataframe thead tr:last-of-type th {\n",
       "        text-align: right;\n",
       "    }\n",
       "</style>\n",
       "<table border=\"1\" class=\"dataframe\">\n",
       "  <thead>\n",
       "    <tr>\n",
       "      <th></th>\n",
       "      <th>order_number</th>\n",
       "    </tr>\n",
       "    <tr>\n",
       "      <th></th>\n",
       "      <th>mean</th>\n",
       "    </tr>\n",
       "    <tr>\n",
       "      <th>department_id</th>\n",
       "      <th></th>\n",
       "    </tr>\n",
       "  </thead>\n",
       "  <tbody>\n",
       "    <tr>\n",
       "      <th>1</th>\n",
       "      <td>15.457838</td>\n",
       "    </tr>\n",
       "    <tr>\n",
       "      <th>2</th>\n",
       "      <td>17.277920</td>\n",
       "    </tr>\n",
       "    <tr>\n",
       "      <th>3</th>\n",
       "      <td>17.170395</td>\n",
       "    </tr>\n",
       "    <tr>\n",
       "      <th>4</th>\n",
       "      <td>17.811403</td>\n",
       "    </tr>\n",
       "    <tr>\n",
       "      <th>5</th>\n",
       "      <td>15.215751</td>\n",
       "    </tr>\n",
       "    <tr>\n",
       "      <th>6</th>\n",
       "      <td>16.439806</td>\n",
       "    </tr>\n",
       "    <tr>\n",
       "      <th>7</th>\n",
       "      <td>17.225802</td>\n",
       "    </tr>\n",
       "    <tr>\n",
       "      <th>8</th>\n",
       "      <td>15.340650</td>\n",
       "    </tr>\n",
       "    <tr>\n",
       "      <th>9</th>\n",
       "      <td>15.895474</td>\n",
       "    </tr>\n",
       "    <tr>\n",
       "      <th>10</th>\n",
       "      <td>20.197148</td>\n",
       "    </tr>\n",
       "    <tr>\n",
       "      <th>11</th>\n",
       "      <td>16.170638</td>\n",
       "    </tr>\n",
       "    <tr>\n",
       "      <th>12</th>\n",
       "      <td>15.887671</td>\n",
       "    </tr>\n",
       "    <tr>\n",
       "      <th>13</th>\n",
       "      <td>16.583536</td>\n",
       "    </tr>\n",
       "    <tr>\n",
       "      <th>14</th>\n",
       "      <td>16.773669</td>\n",
       "    </tr>\n",
       "    <tr>\n",
       "      <th>15</th>\n",
       "      <td>16.165037</td>\n",
       "    </tr>\n",
       "    <tr>\n",
       "      <th>16</th>\n",
       "      <td>17.665606</td>\n",
       "    </tr>\n",
       "    <tr>\n",
       "      <th>17</th>\n",
       "      <td>15.694469</td>\n",
       "    </tr>\n",
       "    <tr>\n",
       "      <th>18</th>\n",
       "      <td>19.310397</td>\n",
       "    </tr>\n",
       "    <tr>\n",
       "      <th>19</th>\n",
       "      <td>17.177343</td>\n",
       "    </tr>\n",
       "    <tr>\n",
       "      <th>20</th>\n",
       "      <td>16.473447</td>\n",
       "    </tr>\n",
       "    <tr>\n",
       "      <th>21</th>\n",
       "      <td>22.902379</td>\n",
       "    </tr>\n",
       "  </tbody>\n",
       "</table>\n",
       "</div>"
      ],
      "text/plain": [
       "              order_number\n",
       "                      mean\n",
       "department_id             \n",
       "1                15.457838\n",
       "2                17.277920\n",
       "3                17.170395\n",
       "4                17.811403\n",
       "5                15.215751\n",
       "6                16.439806\n",
       "7                17.225802\n",
       "8                15.340650\n",
       "9                15.895474\n",
       "10               20.197148\n",
       "11               16.170638\n",
       "12               15.887671\n",
       "13               16.583536\n",
       "14               16.773669\n",
       "15               16.165037\n",
       "16               17.665606\n",
       "17               15.694469\n",
       "18               19.310397\n",
       "19               17.177343\n",
       "20               16.473447\n",
       "21               22.902379"
      ]
     },
     "execution_count": 7,
     "metadata": {},
     "output_type": "execute_result"
    }
   ],
   "source": [
    "# Find the aggregated mean of the \"order_number\" column grouped by the \"department_id\" column\n",
    "df.groupby('department_id').agg({'order_number': ['mean']})"
   ]
  },
  {
   "cell_type": "markdown",
   "id": "4619ce55",
   "metadata": {},
   "source": [
    "#### In the previous exercise, because we were using a subset, there were not as many rows. Comparing this to the subset, the mean for produce (department_id 4) is now 18, and not 19. This also applies to other department_ids where the mean has decreased with the additional rows."
   ]
  },
  {
   "cell_type": "code",
   "execution_count": 8,
   "id": "1e6f3b12",
   "metadata": {},
   "outputs": [
    {
     "data": {
      "text/html": [
       "<div>\n",
       "<style scoped>\n",
       "    .dataframe tbody tr th:only-of-type {\n",
       "        vertical-align: middle;\n",
       "    }\n",
       "\n",
       "    .dataframe tbody tr th {\n",
       "        vertical-align: top;\n",
       "    }\n",
       "\n",
       "    .dataframe thead tr th {\n",
       "        text-align: left;\n",
       "    }\n",
       "\n",
       "    .dataframe thead tr:last-of-type th {\n",
       "        text-align: right;\n",
       "    }\n",
       "</style>\n",
       "<table border=\"1\" class=\"dataframe\">\n",
       "  <thead>\n",
       "    <tr>\n",
       "      <th></th>\n",
       "      <th colspan=\"3\" halign=\"left\">prices</th>\n",
       "    </tr>\n",
       "    <tr>\n",
       "      <th></th>\n",
       "      <th>min</th>\n",
       "      <th>max</th>\n",
       "      <th>mean</th>\n",
       "    </tr>\n",
       "    <tr>\n",
       "      <th>loyalty_flag</th>\n",
       "      <th></th>\n",
       "      <th></th>\n",
       "      <th></th>\n",
       "    </tr>\n",
       "  </thead>\n",
       "  <tbody>\n",
       "    <tr>\n",
       "      <th>Loyal customer</th>\n",
       "      <td>1.0</td>\n",
       "      <td>99999.0</td>\n",
       "      <td>10.386336</td>\n",
       "    </tr>\n",
       "    <tr>\n",
       "      <th>New customer</th>\n",
       "      <td>1.0</td>\n",
       "      <td>99999.0</td>\n",
       "      <td>13.294670</td>\n",
       "    </tr>\n",
       "    <tr>\n",
       "      <th>Regular customer</th>\n",
       "      <td>1.0</td>\n",
       "      <td>99999.0</td>\n",
       "      <td>12.495717</td>\n",
       "    </tr>\n",
       "  </tbody>\n",
       "</table>\n",
       "</div>"
      ],
      "text/plain": [
       "                 prices                    \n",
       "                    min      max       mean\n",
       "loyalty_flag                               \n",
       "Loyal customer      1.0  99999.0  10.386336\n",
       "New customer        1.0  99999.0  13.294670\n",
       "Regular customer    1.0  99999.0  12.495717"
      ]
     },
     "execution_count": 8,
     "metadata": {},
     "output_type": "execute_result"
    }
   ],
   "source": [
    "# Check the basic statistics of the product prices for each loyalty category\n",
    "df.groupby('loyalty_flag').agg({'prices': ['min', 'max', 'mean']})"
   ]
  },
  {
   "cell_type": "code",
   "execution_count": 9,
   "id": "52961e6d",
   "metadata": {},
   "outputs": [],
   "source": [
    "# Create a new column that finds the mean of prices of products\n",
    "df['avg_price'] = df.groupby(['user_id'])['prices'].transform(np.mean)"
   ]
  },
  {
   "cell_type": "code",
   "execution_count": 10,
   "id": "a990794c",
   "metadata": {},
   "outputs": [],
   "source": [
    "# Create spending flags based on average price\n",
    "df.loc[df['avg_price'] < 10, 'spending_flag'] = 'Low spender'"
   ]
  },
  {
   "cell_type": "code",
   "execution_count": 11,
   "id": "42955e38",
   "metadata": {},
   "outputs": [],
   "source": [
    "df.loc[df['avg_price'] >= 10, 'spending_flag'] = 'High spender'"
   ]
  },
  {
   "cell_type": "code",
   "execution_count": 12,
   "id": "5d8b2142",
   "metadata": {},
   "outputs": [
    {
     "data": {
      "text/plain": [
       "Low spender     31770614\n",
       "High spender      634245\n",
       "Name: spending_flag, dtype: int64"
      ]
     },
     "execution_count": 12,
     "metadata": {},
     "output_type": "execute_result"
    }
   ],
   "source": [
    "# Check the value_counts for the spending flag\n",
    "df['spending_flag'].value_counts(dropna = False)"
   ]
  },
  {
   "cell_type": "code",
   "execution_count": 13,
   "id": "a0bac3d9",
   "metadata": {},
   "outputs": [],
   "source": [
    "# Create a new column that finds the median of days since last order\n",
    "df['median_last_order'] = df.groupby(['user_id'])['days_since_last_order'].transform(np.median)"
   ]
  },
  {
   "cell_type": "code",
   "execution_count": 14,
   "id": "ad58fc4f",
   "metadata": {},
   "outputs": [],
   "source": [
    "# Create order frequency flags that mark the regularity of a user's ordering behaviour\n",
    "df.loc[df['median_last_order'] > 20, 'order_frequency_flag'] = 'Non-frequent customer'"
   ]
  },
  {
   "cell_type": "code",
   "execution_count": 15,
   "id": "7483c4c5",
   "metadata": {},
   "outputs": [],
   "source": [
    "df.loc[((df['median_last_order'] > 10) & (df['median_last_order'] <= 20)), 'order_frequency_flag'] = 'Regular customer'"
   ]
  },
  {
   "cell_type": "code",
   "execution_count": 16,
   "id": "d77ae501",
   "metadata": {},
   "outputs": [],
   "source": [
    "df.loc[df['median_last_order'] <= 10, 'order_frequency_flag'] = 'Frequent customer'"
   ]
  },
  {
   "cell_type": "code",
   "execution_count": 17,
   "id": "99895f7a",
   "metadata": {},
   "outputs": [
    {
     "data": {
      "text/plain": [
       "Frequent customer        21559853\n",
       "Regular customer          7208564\n",
       "Non-frequent customer     3636437\n",
       "NaN                             5\n",
       "Name: order_frequency_flag, dtype: int64"
      ]
     },
     "execution_count": 17,
     "metadata": {},
     "output_type": "execute_result"
    }
   ],
   "source": [
    "# Check the value_counts for the order frequency flag\n",
    "df['order_frequency_flag'].value_counts(dropna = False)"
   ]
  },
  {
   "cell_type": "code",
   "execution_count": 18,
   "id": "2cf9c3b0",
   "metadata": {},
   "outputs": [],
   "source": [
    "# Export the dataframe\n",
    "df.to_pickle(os.path.join(path, '02 Data', 'Prepared Data', 'ords_prods_revised_v2.pkl'))"
   ]
  },
  {
   "cell_type": "code",
   "execution_count": null,
   "id": "286d510e",
   "metadata": {},
   "outputs": [],
   "source": []
  }
 ],
 "metadata": {
  "kernelspec": {
   "display_name": "Python 3 (ipykernel)",
   "language": "python",
   "name": "python3"
  },
  "language_info": {
   "codemirror_mode": {
    "name": "ipython",
    "version": 3
   },
   "file_extension": ".py",
   "mimetype": "text/x-python",
   "name": "python",
   "nbconvert_exporter": "python",
   "pygments_lexer": "ipython3",
   "version": "3.9.12"
  }
 },
 "nbformat": 4,
 "nbformat_minor": 5
}
