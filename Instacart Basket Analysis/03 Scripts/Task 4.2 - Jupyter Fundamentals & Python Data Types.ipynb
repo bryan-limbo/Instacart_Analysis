{
 "cells": [
  {
   "cell_type": "markdown",
   "id": "b51873b4",
   "metadata": {},
   "source": [
    "# Importing libraries"
   ]
  },
  {
   "cell_type": "code",
   "execution_count": 1,
   "id": "5762ba52",
   "metadata": {},
   "outputs": [],
   "source": [
    "# Import libraries\n",
    "import pandas as pd\n",
    "import numpy as np\n",
    "import os"
   ]
  },
  {
   "cell_type": "markdown",
   "id": "68c52dfa",
   "metadata": {},
   "source": [
    "# Python data types"
   ]
  },
  {
   "cell_type": "code",
   "execution_count": 2,
   "id": "56661f58",
   "metadata": {},
   "outputs": [],
   "source": [
    "x = 50"
   ]
  },
  {
   "cell_type": "code",
   "execution_count": 3,
   "id": "ab389a8c",
   "metadata": {},
   "outputs": [],
   "source": [
    "y = 50"
   ]
  },
  {
   "cell_type": "code",
   "execution_count": 4,
   "id": "1901996e",
   "metadata": {},
   "outputs": [
    {
     "name": "stdout",
     "output_type": "stream",
     "text": [
      "100\n"
     ]
    }
   ],
   "source": [
    "print(x+y)"
   ]
  },
  {
   "cell_type": "code",
   "execution_count": 5,
   "id": "c34cd0c9",
   "metadata": {},
   "outputs": [],
   "source": [
    "x = x - 25\n",
    "y = y + 25"
   ]
  },
  {
   "cell_type": "code",
   "execution_count": 6,
   "id": "c8ba4594",
   "metadata": {},
   "outputs": [
    {
     "name": "stdout",
     "output_type": "stream",
     "text": [
      "100\n"
     ]
    }
   ],
   "source": [
    "print(x+y)"
   ]
  },
  {
   "cell_type": "code",
   "execution_count": 7,
   "id": "8dedabb0",
   "metadata": {},
   "outputs": [],
   "source": [
    "x = x - 25\n",
    "y = y + 25"
   ]
  },
  {
   "cell_type": "code",
   "execution_count": 8,
   "id": "5357f8a1",
   "metadata": {},
   "outputs": [
    {
     "name": "stdout",
     "output_type": "stream",
     "text": [
      "100\n"
     ]
    }
   ],
   "source": [
    "print(x+y)"
   ]
  },
  {
   "cell_type": "code",
   "execution_count": 9,
   "id": "9860109c",
   "metadata": {},
   "outputs": [],
   "source": [
    "a = 18.75"
   ]
  },
  {
   "cell_type": "code",
   "execution_count": 10,
   "id": "9cf9ed07",
   "metadata": {},
   "outputs": [],
   "source": [
    "b = 2.5"
   ]
  },
  {
   "cell_type": "code",
   "execution_count": 11,
   "id": "0980b1fe",
   "metadata": {},
   "outputs": [
    {
     "name": "stdout",
     "output_type": "stream",
     "text": [
      "7.5\n"
     ]
    }
   ],
   "source": [
    "print(a/b)"
   ]
  },
  {
   "cell_type": "code",
   "execution_count": 12,
   "id": "9b9cb599",
   "metadata": {},
   "outputs": [],
   "source": [
    "c = 'Hello '"
   ]
  },
  {
   "cell_type": "code",
   "execution_count": 13,
   "id": "576bde8e",
   "metadata": {},
   "outputs": [],
   "source": [
    "d = 'World'"
   ]
  },
  {
   "cell_type": "code",
   "execution_count": 14,
   "id": "a37eec22",
   "metadata": {},
   "outputs": [
    {
     "name": "stdout",
     "output_type": "stream",
     "text": [
      "Hello World\n"
     ]
    }
   ],
   "source": [
    "print(c + d)"
   ]
  },
  {
   "cell_type": "code",
   "execution_count": 15,
   "id": "3190dd67",
   "metadata": {},
   "outputs": [],
   "source": [
    "c = c + 'my name is'"
   ]
  },
  {
   "cell_type": "code",
   "execution_count": 16,
   "id": "40714b64",
   "metadata": {},
   "outputs": [],
   "source": [
    "e = ' Bryan'"
   ]
  },
  {
   "cell_type": "code",
   "execution_count": 17,
   "id": "d7b3259c",
   "metadata": {},
   "outputs": [
    {
     "name": "stdout",
     "output_type": "stream",
     "text": [
      "Hello my name is Bryan\n"
     ]
    }
   ],
   "source": [
    "print(c + e)"
   ]
  },
  {
   "cell_type": "code",
   "execution_count": 18,
   "id": "ec011083",
   "metadata": {},
   "outputs": [],
   "source": [
    "f = 'Hey Kelman, '"
   ]
  },
  {
   "cell_type": "code",
   "execution_count": 19,
   "id": "a925892f",
   "metadata": {},
   "outputs": [],
   "source": [
    "g = 'how are you doing?'"
   ]
  },
  {
   "cell_type": "code",
   "execution_count": 20,
   "id": "1136be06",
   "metadata": {},
   "outputs": [
    {
     "name": "stdout",
     "output_type": "stream",
     "text": [
      "Hey Kelman, how are you doing?\n"
     ]
    }
   ],
   "source": [
    "print(f + g)"
   ]
  },
  {
   "cell_type": "code",
   "execution_count": 21,
   "id": "abf0ba17",
   "metadata": {},
   "outputs": [],
   "source": [
    "name = 'Bryan'"
   ]
  },
  {
   "cell_type": "code",
   "execution_count": 22,
   "id": "016ecf57",
   "metadata": {},
   "outputs": [
    {
     "data": {
      "text/plain": [
       "'BryanBryanBryanBryanBryanBryanBryanBryanBryanBryanBryanBryanBryanBryanBryanBryanBryanBryanBryanBryanBryanBryanBryanBryanBryanBryanBryanBryanBryanBryanBryanBryanBryanBryanBryanBryanBryanBryanBryanBryanBryanBryanBryanBryanBryanBryanBryanBryanBryanBryanBryanBryanBryanBryanBryanBryanBryanBryanBryanBryanBryanBryanBryanBryanBryanBryanBryanBryanBryanBryanBryanBryanBryanBryanBryanBryanBryanBryanBryanBryanBryanBryanBryanBryanBryanBryanBryanBryanBryanBryanBryanBryanBryanBryanBryanBryanBryanBryanBryanBryan'"
      ]
     },
     "execution_count": 22,
     "metadata": {},
     "output_type": "execute_result"
    }
   ],
   "source": [
    "name * 100"
   ]
  },
  {
   "cell_type": "code",
   "execution_count": null,
   "id": "de739db8",
   "metadata": {},
   "outputs": [],
   "source": []
  }
 ],
 "metadata": {
  "kernelspec": {
   "display_name": "Python 3 (ipykernel)",
   "language": "python",
   "name": "python3"
  },
  "language_info": {
   "codemirror_mode": {
    "name": "ipython",
    "version": 3
   },
   "file_extension": ".py",
   "mimetype": "text/x-python",
   "name": "python",
   "nbconvert_exporter": "python",
   "pygments_lexer": "ipython3",
   "version": "3.9.12"
  }
 },
 "nbformat": 4,
 "nbformat_minor": 5
}
