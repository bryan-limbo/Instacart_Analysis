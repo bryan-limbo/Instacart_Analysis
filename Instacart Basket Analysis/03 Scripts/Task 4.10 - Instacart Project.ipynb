{
 "cells": [
  {
   "cell_type": "code",
   "execution_count": 1,
   "id": "a8ba9e26",
   "metadata": {},
   "outputs": [
    {
     "data": {
      "text/plain": [
       "35"
      ]
     },
     "execution_count": 1,
     "metadata": {},
     "output_type": "execute_result"
    }
   ],
   "source": [
    "import gc\n",
    "gc.collect()"
   ]
  },
  {
   "cell_type": "markdown",
   "id": "0f613833",
   "metadata": {},
   "source": [
    "### Table of Contents\n",
    "    01. Import libraries\n",
    "        a. Import dataset\n",
    "        b. Create a sample subset\n",
    "    02. Security Implications\n",
    "    03. Regional Segmentation\n",
    "    04. Exclusion Flag for Low-Activity Customers\n",
    "    05. Customer profiling\n",
    "        a. Age\n",
    "        b. Income\n",
    "        c. Number of dependents\n",
    "        d. Pet status \n",
    "        e. Baby status \n",
    "        f. Alcohol status \n",
    "    06. Aggregating values based on profiling (min, max, mean)\n",
    "        a. Age\n",
    "        b. Income\n",
    "        c. Pet status\n",
    "        d. Baby status\n",
    "        e. Alcohol status\n",
    "    07. Creating visualizations to show the distribution of profiles\n",
    "        a. Products and busiest times of the day/week\n",
    "        b. Analysis of customer profiling\n",
    "    08. Exporting visualizations"
   ]
  },
  {
   "cell_type": "markdown",
   "id": "6ca8424a",
   "metadata": {},
   "source": [
    "# 01. Import libraries"
   ]
  },
  {
   "cell_type": "code",
   "execution_count": 2,
   "id": "e9f222b7",
   "metadata": {},
   "outputs": [],
   "source": [
    "# import libraries\n",
    "import pandas as pd\n",
    "import numpy as np\n",
    "import os\n",
    "import seaborn as sns\n",
    "import matplotlib.pyplot as plt\n",
    "import scipy"
   ]
  },
  {
   "cell_type": "code",
   "execution_count": 3,
   "id": "41a527df",
   "metadata": {},
   "outputs": [],
   "source": [
    "# Create a path for easier importing\n",
    "path = r'C:\\Users\\blim9\\Desktop\\Career Foundry\\Data Immersion\\Achievement 4\\Instacart Basket Analysis'"
   ]
  },
  {
   "cell_type": "code",
   "execution_count": 4,
   "id": "827a0588",
   "metadata": {},
   "outputs": [],
   "source": [
    "# Import the last dataset worked on \n",
    "df_merged = pd.read_pickle(os.path.join (path, '02 Data', 'Prepared Data', 'final_dataframe.pkl'))"
   ]
  },
  {
   "cell_type": "code",
   "execution_count": 5,
   "id": "71edbce9",
   "metadata": {},
   "outputs": [
    {
     "data": {
      "text/html": [
       "<div>\n",
       "<style scoped>\n",
       "    .dataframe tbody tr th:only-of-type {\n",
       "        vertical-align: middle;\n",
       "    }\n",
       "\n",
       "    .dataframe tbody tr th {\n",
       "        vertical-align: top;\n",
       "    }\n",
       "\n",
       "    .dataframe thead th {\n",
       "        text-align: right;\n",
       "    }\n",
       "</style>\n",
       "<table border=\"1\" class=\"dataframe\">\n",
       "  <thead>\n",
       "    <tr style=\"text-align: right;\">\n",
       "      <th></th>\n",
       "      <th>order_id</th>\n",
       "      <th>user_id</th>\n",
       "      <th>order_number</th>\n",
       "      <th>order_day_of_week</th>\n",
       "      <th>order_hour_of_day</th>\n",
       "      <th>days_since_last_order</th>\n",
       "      <th>new_customer</th>\n",
       "      <th>product_id</th>\n",
       "      <th>add_to_cart_order</th>\n",
       "      <th>reordered</th>\n",
       "      <th>...</th>\n",
       "      <th>order_frequency_flag</th>\n",
       "      <th>first_name</th>\n",
       "      <th>last_name</th>\n",
       "      <th>gender</th>\n",
       "      <th>state</th>\n",
       "      <th>age</th>\n",
       "      <th>date_joined</th>\n",
       "      <th>num_of_dependants</th>\n",
       "      <th>fam_status</th>\n",
       "      <th>income</th>\n",
       "    </tr>\n",
       "  </thead>\n",
       "  <tbody>\n",
       "    <tr>\n",
       "      <th>0</th>\n",
       "      <td>2539329</td>\n",
       "      <td>1</td>\n",
       "      <td>1</td>\n",
       "      <td>2</td>\n",
       "      <td>8</td>\n",
       "      <td>NaN</td>\n",
       "      <td>True</td>\n",
       "      <td>196</td>\n",
       "      <td>1</td>\n",
       "      <td>0</td>\n",
       "      <td>...</td>\n",
       "      <td>Non-frequent customer</td>\n",
       "      <td>Linda</td>\n",
       "      <td>Nguyen</td>\n",
       "      <td>Female</td>\n",
       "      <td>Alabama</td>\n",
       "      <td>31</td>\n",
       "      <td>2/17/2019</td>\n",
       "      <td>3</td>\n",
       "      <td>married</td>\n",
       "      <td>40423</td>\n",
       "    </tr>\n",
       "    <tr>\n",
       "      <th>1</th>\n",
       "      <td>2398795</td>\n",
       "      <td>1</td>\n",
       "      <td>2</td>\n",
       "      <td>3</td>\n",
       "      <td>7</td>\n",
       "      <td>15.0</td>\n",
       "      <td>False</td>\n",
       "      <td>196</td>\n",
       "      <td>1</td>\n",
       "      <td>1</td>\n",
       "      <td>...</td>\n",
       "      <td>Non-frequent customer</td>\n",
       "      <td>Linda</td>\n",
       "      <td>Nguyen</td>\n",
       "      <td>Female</td>\n",
       "      <td>Alabama</td>\n",
       "      <td>31</td>\n",
       "      <td>2/17/2019</td>\n",
       "      <td>3</td>\n",
       "      <td>married</td>\n",
       "      <td>40423</td>\n",
       "    </tr>\n",
       "    <tr>\n",
       "      <th>2</th>\n",
       "      <td>473747</td>\n",
       "      <td>1</td>\n",
       "      <td>3</td>\n",
       "      <td>3</td>\n",
       "      <td>12</td>\n",
       "      <td>21.0</td>\n",
       "      <td>False</td>\n",
       "      <td>196</td>\n",
       "      <td>1</td>\n",
       "      <td>1</td>\n",
       "      <td>...</td>\n",
       "      <td>Non-frequent customer</td>\n",
       "      <td>Linda</td>\n",
       "      <td>Nguyen</td>\n",
       "      <td>Female</td>\n",
       "      <td>Alabama</td>\n",
       "      <td>31</td>\n",
       "      <td>2/17/2019</td>\n",
       "      <td>3</td>\n",
       "      <td>married</td>\n",
       "      <td>40423</td>\n",
       "    </tr>\n",
       "    <tr>\n",
       "      <th>3</th>\n",
       "      <td>2254736</td>\n",
       "      <td>1</td>\n",
       "      <td>4</td>\n",
       "      <td>4</td>\n",
       "      <td>7</td>\n",
       "      <td>29.0</td>\n",
       "      <td>False</td>\n",
       "      <td>196</td>\n",
       "      <td>1</td>\n",
       "      <td>1</td>\n",
       "      <td>...</td>\n",
       "      <td>Non-frequent customer</td>\n",
       "      <td>Linda</td>\n",
       "      <td>Nguyen</td>\n",
       "      <td>Female</td>\n",
       "      <td>Alabama</td>\n",
       "      <td>31</td>\n",
       "      <td>2/17/2019</td>\n",
       "      <td>3</td>\n",
       "      <td>married</td>\n",
       "      <td>40423</td>\n",
       "    </tr>\n",
       "    <tr>\n",
       "      <th>4</th>\n",
       "      <td>431534</td>\n",
       "      <td>1</td>\n",
       "      <td>5</td>\n",
       "      <td>4</td>\n",
       "      <td>15</td>\n",
       "      <td>28.0</td>\n",
       "      <td>False</td>\n",
       "      <td>196</td>\n",
       "      <td>1</td>\n",
       "      <td>1</td>\n",
       "      <td>...</td>\n",
       "      <td>Non-frequent customer</td>\n",
       "      <td>Linda</td>\n",
       "      <td>Nguyen</td>\n",
       "      <td>Female</td>\n",
       "      <td>Alabama</td>\n",
       "      <td>31</td>\n",
       "      <td>2/17/2019</td>\n",
       "      <td>3</td>\n",
       "      <td>married</td>\n",
       "      <td>40423</td>\n",
       "    </tr>\n",
       "  </tbody>\n",
       "</table>\n",
       "<p>5 rows × 34 columns</p>\n",
       "</div>"
      ],
      "text/plain": [
       "   order_id user_id  order_number  order_day_of_week  order_hour_of_day  \\\n",
       "0   2539329       1             1                  2                  8   \n",
       "1   2398795       1             2                  3                  7   \n",
       "2    473747       1             3                  3                 12   \n",
       "3   2254736       1             4                  4                  7   \n",
       "4    431534       1             5                  4                 15   \n",
       "\n",
       "   days_since_last_order  new_customer  product_id  add_to_cart_order  \\\n",
       "0                    NaN          True         196                  1   \n",
       "1                   15.0         False         196                  1   \n",
       "2                   21.0         False         196                  1   \n",
       "3                   29.0         False         196                  1   \n",
       "4                   28.0         False         196                  1   \n",
       "\n",
       "   reordered  ...   order_frequency_flag  first_name  last_name  gender  \\\n",
       "0          0  ...  Non-frequent customer       Linda     Nguyen  Female   \n",
       "1          1  ...  Non-frequent customer       Linda     Nguyen  Female   \n",
       "2          1  ...  Non-frequent customer       Linda     Nguyen  Female   \n",
       "3          1  ...  Non-frequent customer       Linda     Nguyen  Female   \n",
       "4          1  ...  Non-frequent customer       Linda     Nguyen  Female   \n",
       "\n",
       "     state age date_joined num_of_dependants fam_status  income  \n",
       "0  Alabama  31   2/17/2019                 3    married   40423  \n",
       "1  Alabama  31   2/17/2019                 3    married   40423  \n",
       "2  Alabama  31   2/17/2019                 3    married   40423  \n",
       "3  Alabama  31   2/17/2019                 3    married   40423  \n",
       "4  Alabama  31   2/17/2019                 3    married   40423  \n",
       "\n",
       "[5 rows x 34 columns]"
      ]
     },
     "execution_count": 5,
     "metadata": {},
     "output_type": "execute_result"
    }
   ],
   "source": [
    "df_merged.head()"
   ]
  },
  {
   "cell_type": "markdown",
   "id": "38f2223e",
   "metadata": {},
   "source": [
    "### For the purpose of this project, I will be creating a sample subset with a 70/30 split. The 30 percent sample will resemble the 70 percent sample."
   ]
  },
  {
   "cell_type": "code",
   "execution_count": 6,
   "id": "613f5780",
   "metadata": {},
   "outputs": [],
   "source": [
    "# Create a random list of floating numbers\n",
    "np.random.seed(4)"
   ]
  },
  {
   "cell_type": "code",
   "execution_count": 7,
   "id": "f3ce6a33",
   "metadata": {},
   "outputs": [],
   "source": [
    "split = np.random.rand(len(df_merged)) <= 0.7"
   ]
  },
  {
   "cell_type": "code",
   "execution_count": 8,
   "id": "8ff614f9",
   "metadata": {},
   "outputs": [],
   "source": [
    "# Split the dataframe into two samples\n",
    "df_big = df_merged[split]\n",
    "df_subset = df_merged[~split]"
   ]
  },
  {
   "cell_type": "code",
   "execution_count": 9,
   "id": "575c453c",
   "metadata": {},
   "outputs": [
    {
     "data": {
      "text/plain": [
       "32404859"
      ]
     },
     "execution_count": 9,
     "metadata": {},
     "output_type": "execute_result"
    }
   ],
   "source": [
    "# Check how many rows the original dataframe has\n",
    "len(df_merged)"
   ]
  },
  {
   "cell_type": "code",
   "execution_count": 10,
   "id": "14503da3",
   "metadata": {},
   "outputs": [
    {
     "data": {
      "text/plain": [
       "32404859"
      ]
     },
     "execution_count": 10,
     "metadata": {},
     "output_type": "execute_result"
    }
   ],
   "source": [
    "# Check that both the length of the two dataframes adds up to the above number\n",
    "len(df_big) + len(df_subset)"
   ]
  },
  {
   "cell_type": "markdown",
   "id": "c2320ac0",
   "metadata": {},
   "source": [
    "# 02. Security implications"
   ]
  },
  {
   "cell_type": "code",
   "execution_count": 11,
   "id": "7cc86edd",
   "metadata": {},
   "outputs": [
    {
     "data": {
      "text/plain": [
       "Index(['order_id', 'user_id', 'order_number', 'order_day_of_week',\n",
       "       'order_hour_of_day', 'days_since_last_order', 'new_customer',\n",
       "       'product_id', 'add_to_cart_order', 'reordered', 'product_name',\n",
       "       'aisle_id', 'department_id', 'prices', '_merge', 'prices_range_label',\n",
       "       'busiest_day', 'busiest_days', 'busiest_period_of_day', 'max_order',\n",
       "       'loyalty_flag', 'avg_price', 'spending_flag', 'median_last_order',\n",
       "       'order_frequency_flag', 'first_name', 'last_name', 'gender', 'state',\n",
       "       'age', 'date_joined', 'num_of_dependants', 'fam_status', 'income'],\n",
       "      dtype='object')"
      ]
     },
     "execution_count": 11,
     "metadata": {},
     "output_type": "execute_result"
    }
   ],
   "source": [
    "df_subset.columns"
   ]
  },
  {
   "cell_type": "markdown",
   "id": "4be47e00",
   "metadata": {},
   "source": [
    "#### The two columns that have PII (personally identifiable information) are first_name and last_name"
   ]
  },
  {
   "cell_type": "code",
   "execution_count": 12,
   "id": "919e892f",
   "metadata": {},
   "outputs": [],
   "source": [
    "# Drop the two PII columns as well as the _merge column as it will not serve any purpose\n",
    "df_subset = df_subset.drop(columns = ['first_name', 'last_name', '_merge'])"
   ]
  },
  {
   "cell_type": "code",
   "execution_count": 13,
   "id": "45e9f42d",
   "metadata": {},
   "outputs": [
    {
     "data": {
      "text/plain": [
       "(9721098, 31)"
      ]
     },
     "execution_count": 13,
     "metadata": {},
     "output_type": "execute_result"
    }
   ],
   "source": [
    "# Check that the columns were dropped (should be 31 rows)\n",
    "df_subset.shape"
   ]
  },
  {
   "cell_type": "markdown",
   "id": "96b115e5",
   "metadata": {},
   "source": [
    "# 03. Regional segmentation"
   ]
  },
  {
   "cell_type": "markdown",
   "id": "61fd9082",
   "metadata": {},
   "source": [
    "#### I will be using the new dataframe with the three removed columns"
   ]
  },
  {
   "cell_type": "code",
   "execution_count": 14,
   "id": "d8d4ecdd",
   "metadata": {},
   "outputs": [],
   "source": [
    "# Create lists for each region based on this article: https://simple.wikipedia.org/wiki/List_of_regions_of_the_United_States\n",
    "Northeast = ['Maine', 'New Hampshire', 'Vermont', 'Massachusetts', 'Rhode Island', 'Connecticut', \n",
    "             'New York', 'Pennsylvania', 'New Jersey']\n",
    "Midwest = ['Wisconsin', 'Michigan', 'Illinois', 'Indiana', 'Ohio', 'North Dakota', 'South Dakota', \n",
    "           'Nebraska', 'Kansas', 'Minnesota', 'Iowa', 'Missouri']\n",
    "South = ['Delaware', 'Maryland', 'District of Columbia', 'Virginia', 'West Virginia', 'North Carolina', \n",
    "         'South Carolina', 'Georgia', 'Florida', 'Kentucky', 'Tennessee', 'Mississippi', 'Alabama', \n",
    "         'Oklahoma', 'Texas', 'Arkansas', 'Louisiana']\n",
    "West = ['Idaho', 'Montana', 'Wyoming', 'Nevada', 'Utah', 'Colorado', 'Arizona', 'New Mexico', 'Alaska', \n",
    "        'Washington', 'Oregon', 'California', 'Hawaii']"
   ]
  },
  {
   "cell_type": "code",
   "execution_count": 15,
   "id": "8efb2b2a",
   "metadata": {},
   "outputs": [],
   "source": [
    "# Create the 'region' column based on the 'state' column\n",
    "df_subset.loc[df_subset['state'].isin(Northeast), 'region'] = 'Northeast'"
   ]
  },
  {
   "cell_type": "code",
   "execution_count": 16,
   "id": "48281ea2",
   "metadata": {},
   "outputs": [],
   "source": [
    "df_subset.loc[df_subset['state'].isin(Midwest), 'region'] = 'Midwest'"
   ]
  },
  {
   "cell_type": "code",
   "execution_count": 17,
   "id": "b6050100",
   "metadata": {},
   "outputs": [],
   "source": [
    "df_subset.loc[df_subset['state'].isin(South), 'region'] = 'South'"
   ]
  },
  {
   "cell_type": "code",
   "execution_count": 18,
   "id": "0f41f6a6",
   "metadata": {},
   "outputs": [],
   "source": [
    "df_subset.loc[df_subset['state'].isin(West), 'region'] = 'West'"
   ]
  },
  {
   "cell_type": "code",
   "execution_count": 19,
   "id": "19f1145f",
   "metadata": {},
   "outputs": [],
   "source": [
    "# Create a crosstab to identify the spending habits between the U.S. regions\n",
    "crosstab = pd.crosstab(df_subset['region'], df_subset['spending_flag'], dropna = False)"
   ]
  },
  {
   "cell_type": "code",
   "execution_count": 20,
   "id": "3a2935e4",
   "metadata": {},
   "outputs": [
    {
     "data": {
      "text/html": [
       "<div>\n",
       "<style scoped>\n",
       "    .dataframe tbody tr th:only-of-type {\n",
       "        vertical-align: middle;\n",
       "    }\n",
       "\n",
       "    .dataframe tbody tr th {\n",
       "        vertical-align: top;\n",
       "    }\n",
       "\n",
       "    .dataframe thead th {\n",
       "        text-align: right;\n",
       "    }\n",
       "</style>\n",
       "<table border=\"1\" class=\"dataframe\">\n",
       "  <thead>\n",
       "    <tr style=\"text-align: right;\">\n",
       "      <th>spending_flag</th>\n",
       "      <th>High spender</th>\n",
       "      <th>Low spender</th>\n",
       "    </tr>\n",
       "    <tr>\n",
       "      <th>region</th>\n",
       "      <th></th>\n",
       "      <th></th>\n",
       "    </tr>\n",
       "  </thead>\n",
       "  <tbody>\n",
       "    <tr>\n",
       "      <th>Midwest</th>\n",
       "      <td>46352</td>\n",
       "      <td>2231799</td>\n",
       "    </tr>\n",
       "    <tr>\n",
       "      <th>Northeast</th>\n",
       "      <td>32401</td>\n",
       "      <td>1682946</td>\n",
       "    </tr>\n",
       "    <tr>\n",
       "      <th>South</th>\n",
       "      <td>62680</td>\n",
       "      <td>3175953</td>\n",
       "    </tr>\n",
       "    <tr>\n",
       "      <th>West</th>\n",
       "      <td>48232</td>\n",
       "      <td>2440735</td>\n",
       "    </tr>\n",
       "  </tbody>\n",
       "</table>\n",
       "</div>"
      ],
      "text/plain": [
       "spending_flag  High spender  Low spender\n",
       "region                                  \n",
       "Midwest               46352      2231799\n",
       "Northeast             32401      1682946\n",
       "South                 62680      3175953\n",
       "West                  48232      2440735"
      ]
     },
     "execution_count": 20,
     "metadata": {},
     "output_type": "execute_result"
    }
   ],
   "source": [
    "crosstab"
   ]
  },
  {
   "cell_type": "markdown",
   "id": "bccabd7a",
   "metadata": {},
   "source": [
    "#### Based on the observations above, the crosstab shows that the Southern region has both the largest number of both High spenders and Low spenders. On the contrary, the Northeastern region has the smallest number of both High spenders and Low spenders."
   ]
  },
  {
   "cell_type": "code",
   "execution_count": 21,
   "id": "73315545",
   "metadata": {},
   "outputs": [],
   "source": [
    "crosstab2 = pd.crosstab(df_subset['region'], df_subset['loyalty_flag'], dropna = False)"
   ]
  },
  {
   "cell_type": "code",
   "execution_count": 22,
   "id": "8520f9e2",
   "metadata": {},
   "outputs": [
    {
     "data": {
      "text/html": [
       "<div>\n",
       "<style scoped>\n",
       "    .dataframe tbody tr th:only-of-type {\n",
       "        vertical-align: middle;\n",
       "    }\n",
       "\n",
       "    .dataframe tbody tr th {\n",
       "        vertical-align: top;\n",
       "    }\n",
       "\n",
       "    .dataframe thead th {\n",
       "        text-align: right;\n",
       "    }\n",
       "</style>\n",
       "<table border=\"1\" class=\"dataframe\">\n",
       "  <thead>\n",
       "    <tr style=\"text-align: right;\">\n",
       "      <th>loyalty_flag</th>\n",
       "      <th>Loyal customer</th>\n",
       "      <th>New customer</th>\n",
       "      <th>Regular customer</th>\n",
       "    </tr>\n",
       "    <tr>\n",
       "      <th>region</th>\n",
       "      <th></th>\n",
       "      <th></th>\n",
       "      <th></th>\n",
       "    </tr>\n",
       "  </thead>\n",
       "  <tbody>\n",
       "    <tr>\n",
       "      <th>Midwest</th>\n",
       "      <td>712176</td>\n",
       "      <td>441703</td>\n",
       "      <td>1124272</td>\n",
       "    </tr>\n",
       "    <tr>\n",
       "      <th>Northeast</th>\n",
       "      <td>550677</td>\n",
       "      <td>330482</td>\n",
       "      <td>834188</td>\n",
       "    </tr>\n",
       "    <tr>\n",
       "      <th>South</th>\n",
       "      <td>1021253</td>\n",
       "      <td>623345</td>\n",
       "      <td>1594035</td>\n",
       "    </tr>\n",
       "    <tr>\n",
       "      <th>West</th>\n",
       "      <td>799467</td>\n",
       "      <td>479363</td>\n",
       "      <td>1210137</td>\n",
       "    </tr>\n",
       "  </tbody>\n",
       "</table>\n",
       "</div>"
      ],
      "text/plain": [
       "loyalty_flag  Loyal customer  New customer  Regular customer\n",
       "region                                                      \n",
       "Midwest               712176        441703           1124272\n",
       "Northeast             550677        330482            834188\n",
       "South                1021253        623345           1594035\n",
       "West                  799467        479363           1210137"
      ]
     },
     "execution_count": 22,
     "metadata": {},
     "output_type": "execute_result"
    }
   ],
   "source": [
    "crosstab2"
   ]
  },
  {
   "cell_type": "markdown",
   "id": "08de711c",
   "metadata": {},
   "source": [
    "#### The Southern region once against reigns supreme in terms of numbers. In all three categories, they have the highest number of customers. This could play a major part in that the Southern region has a larger population with the most number of states included. The Northeastern region also has the lowest number compared to the other regions, indicating it may have the lowest total population."
   ]
  },
  {
   "cell_type": "code",
   "execution_count": 23,
   "id": "b0dbfd6b",
   "metadata": {},
   "outputs": [
    {
     "data": {
      "text/html": [
       "<div>\n",
       "<style scoped>\n",
       "    .dataframe tbody tr th:only-of-type {\n",
       "        vertical-align: middle;\n",
       "    }\n",
       "\n",
       "    .dataframe tbody tr th {\n",
       "        vertical-align: top;\n",
       "    }\n",
       "\n",
       "    .dataframe thead th {\n",
       "        text-align: right;\n",
       "    }\n",
       "</style>\n",
       "<table border=\"1\" class=\"dataframe\">\n",
       "  <thead>\n",
       "    <tr style=\"text-align: right;\">\n",
       "      <th></th>\n",
       "      <th>avg_price</th>\n",
       "    </tr>\n",
       "    <tr>\n",
       "      <th>region</th>\n",
       "      <th></th>\n",
       "    </tr>\n",
       "  </thead>\n",
       "  <tbody>\n",
       "    <tr>\n",
       "      <th>Midwest</th>\n",
       "      <td>12.693609</td>\n",
       "    </tr>\n",
       "    <tr>\n",
       "      <th>Northeast</th>\n",
       "      <td>11.531572</td>\n",
       "    </tr>\n",
       "    <tr>\n",
       "      <th>South</th>\n",
       "      <td>12.199883</td>\n",
       "    </tr>\n",
       "    <tr>\n",
       "      <th>West</th>\n",
       "      <td>11.307486</td>\n",
       "    </tr>\n",
       "  </tbody>\n",
       "</table>\n",
       "</div>"
      ],
      "text/plain": [
       "           avg_price\n",
       "region              \n",
       "Midwest    12.693609\n",
       "Northeast  11.531572\n",
       "South      12.199883\n",
       "West       11.307486"
      ]
     },
     "execution_count": 23,
     "metadata": {},
     "output_type": "execute_result"
    }
   ],
   "source": [
    "df_subset.groupby('region').agg({'avg_price': 'mean'})"
   ]
  },
  {
   "cell_type": "markdown",
   "id": "595ffa2e",
   "metadata": {},
   "source": [
    "#### In terms of average price spent by region, there isn't a large difference despite the population. The Southern region spent an average of 12.20 while the Midwestern region spent an average of 12.69. The Northeastern region despite having the lowest numbers above, do not have the lowest average price."
   ]
  },
  {
   "cell_type": "markdown",
   "id": "07d861ff",
   "metadata": {},
   "source": [
    "# 04. Exclusion flags for low-activity customers"
   ]
  },
  {
   "cell_type": "code",
   "execution_count": 24,
   "id": "6a86c91d",
   "metadata": {},
   "outputs": [],
   "source": [
    "# Create an exclusion flag for customers with less than 5 orders and exclude them from the data\n",
    "df_subset.loc[df_subset['max_order'] < 5, 'activity_flag'] = 'Low activity'\n",
    "df_subset.loc[df_subset['max_order'] >= 5, 'activity_flag'] = 'Regular to high activity'"
   ]
  },
  {
   "cell_type": "code",
   "execution_count": 25,
   "id": "a544ebd3",
   "metadata": {},
   "outputs": [
    {
     "data": {
      "text/plain": [
       "Regular to high activity    9288753\n",
       "Low activity                 432345\n",
       "Name: activity_flag, dtype: int64"
      ]
     },
     "execution_count": 25,
     "metadata": {},
     "output_type": "execute_result"
    }
   ],
   "source": [
    "df_subset['activity_flag'].value_counts(dropna = False)"
   ]
  },
  {
   "cell_type": "code",
   "execution_count": 26,
   "id": "ada54a77",
   "metadata": {},
   "outputs": [],
   "source": [
    "# Create a new dataframe to hold the low-activity customers\n",
    "df_low = df_subset.loc[df_subset['activity_flag'] == 'Low activity']"
   ]
  },
  {
   "cell_type": "code",
   "execution_count": 27,
   "id": "54171ddc",
   "metadata": {},
   "outputs": [
    {
     "data": {
      "text/html": [
       "<div>\n",
       "<style scoped>\n",
       "    .dataframe tbody tr th:only-of-type {\n",
       "        vertical-align: middle;\n",
       "    }\n",
       "\n",
       "    .dataframe tbody tr th {\n",
       "        vertical-align: top;\n",
       "    }\n",
       "\n",
       "    .dataframe thead th {\n",
       "        text-align: right;\n",
       "    }\n",
       "</style>\n",
       "<table border=\"1\" class=\"dataframe\">\n",
       "  <thead>\n",
       "    <tr style=\"text-align: right;\">\n",
       "      <th></th>\n",
       "      <th>order_id</th>\n",
       "      <th>user_id</th>\n",
       "      <th>order_number</th>\n",
       "      <th>order_day_of_week</th>\n",
       "      <th>order_hour_of_day</th>\n",
       "      <th>days_since_last_order</th>\n",
       "      <th>new_customer</th>\n",
       "      <th>product_id</th>\n",
       "      <th>add_to_cart_order</th>\n",
       "      <th>reordered</th>\n",
       "      <th>...</th>\n",
       "      <th>order_frequency_flag</th>\n",
       "      <th>gender</th>\n",
       "      <th>state</th>\n",
       "      <th>age</th>\n",
       "      <th>date_joined</th>\n",
       "      <th>num_of_dependants</th>\n",
       "      <th>fam_status</th>\n",
       "      <th>income</th>\n",
       "      <th>region</th>\n",
       "      <th>activity_flag</th>\n",
       "    </tr>\n",
       "  </thead>\n",
       "  <tbody>\n",
       "    <tr>\n",
       "      <th>3856</th>\n",
       "      <td>3046940</td>\n",
       "      <td>360</td>\n",
       "      <td>2</td>\n",
       "      <td>2</td>\n",
       "      <td>8</td>\n",
       "      <td>4.0</td>\n",
       "      <td>False</td>\n",
       "      <td>5322</td>\n",
       "      <td>3</td>\n",
       "      <td>0</td>\n",
       "      <td>...</td>\n",
       "      <td>Frequent customer</td>\n",
       "      <td>Male</td>\n",
       "      <td>Arizona</td>\n",
       "      <td>46</td>\n",
       "      <td>9/1/2017</td>\n",
       "      <td>1</td>\n",
       "      <td>married</td>\n",
       "      <td>104257</td>\n",
       "      <td>West</td>\n",
       "      <td>Low activity</td>\n",
       "    </tr>\n",
       "    <tr>\n",
       "      <th>3859</th>\n",
       "      <td>2300993</td>\n",
       "      <td>360</td>\n",
       "      <td>3</td>\n",
       "      <td>1</td>\n",
       "      <td>13</td>\n",
       "      <td>6.0</td>\n",
       "      <td>False</td>\n",
       "      <td>28155</td>\n",
       "      <td>3</td>\n",
       "      <td>0</td>\n",
       "      <td>...</td>\n",
       "      <td>Frequent customer</td>\n",
       "      <td>Male</td>\n",
       "      <td>Arizona</td>\n",
       "      <td>46</td>\n",
       "      <td>9/1/2017</td>\n",
       "      <td>1</td>\n",
       "      <td>married</td>\n",
       "      <td>104257</td>\n",
       "      <td>West</td>\n",
       "      <td>Low activity</td>\n",
       "    </tr>\n",
       "    <tr>\n",
       "      <th>3866</th>\n",
       "      <td>3226575</td>\n",
       "      <td>360</td>\n",
       "      <td>1</td>\n",
       "      <td>5</td>\n",
       "      <td>12</td>\n",
       "      <td>NaN</td>\n",
       "      <td>True</td>\n",
       "      <td>3039</td>\n",
       "      <td>4</td>\n",
       "      <td>0</td>\n",
       "      <td>...</td>\n",
       "      <td>Frequent customer</td>\n",
       "      <td>Male</td>\n",
       "      <td>Arizona</td>\n",
       "      <td>46</td>\n",
       "      <td>9/1/2017</td>\n",
       "      <td>1</td>\n",
       "      <td>married</td>\n",
       "      <td>104257</td>\n",
       "      <td>West</td>\n",
       "      <td>Low activity</td>\n",
       "    </tr>\n",
       "    <tr>\n",
       "      <th>3868</th>\n",
       "      <td>3046940</td>\n",
       "      <td>360</td>\n",
       "      <td>2</td>\n",
       "      <td>2</td>\n",
       "      <td>8</td>\n",
       "      <td>4.0</td>\n",
       "      <td>False</td>\n",
       "      <td>19376</td>\n",
       "      <td>2</td>\n",
       "      <td>0</td>\n",
       "      <td>...</td>\n",
       "      <td>Frequent customer</td>\n",
       "      <td>Male</td>\n",
       "      <td>Arizona</td>\n",
       "      <td>46</td>\n",
       "      <td>9/1/2017</td>\n",
       "      <td>1</td>\n",
       "      <td>married</td>\n",
       "      <td>104257</td>\n",
       "      <td>West</td>\n",
       "      <td>Low activity</td>\n",
       "    </tr>\n",
       "    <tr>\n",
       "      <th>3870</th>\n",
       "      <td>2300993</td>\n",
       "      <td>360</td>\n",
       "      <td>3</td>\n",
       "      <td>1</td>\n",
       "      <td>13</td>\n",
       "      <td>6.0</td>\n",
       "      <td>False</td>\n",
       "      <td>31716</td>\n",
       "      <td>4</td>\n",
       "      <td>0</td>\n",
       "      <td>...</td>\n",
       "      <td>Frequent customer</td>\n",
       "      <td>Male</td>\n",
       "      <td>Arizona</td>\n",
       "      <td>46</td>\n",
       "      <td>9/1/2017</td>\n",
       "      <td>1</td>\n",
       "      <td>married</td>\n",
       "      <td>104257</td>\n",
       "      <td>West</td>\n",
       "      <td>Low activity</td>\n",
       "    </tr>\n",
       "  </tbody>\n",
       "</table>\n",
       "<p>5 rows × 33 columns</p>\n",
       "</div>"
      ],
      "text/plain": [
       "      order_id user_id  order_number  order_day_of_week  order_hour_of_day  \\\n",
       "3856   3046940     360             2                  2                  8   \n",
       "3859   2300993     360             3                  1                 13   \n",
       "3866   3226575     360             1                  5                 12   \n",
       "3868   3046940     360             2                  2                  8   \n",
       "3870   2300993     360             3                  1                 13   \n",
       "\n",
       "      days_since_last_order  new_customer  product_id  add_to_cart_order  \\\n",
       "3856                    4.0         False        5322                  3   \n",
       "3859                    6.0         False       28155                  3   \n",
       "3866                    NaN          True        3039                  4   \n",
       "3868                    4.0         False       19376                  2   \n",
       "3870                    6.0         False       31716                  4   \n",
       "\n",
       "      reordered  ... order_frequency_flag  gender    state  age date_joined  \\\n",
       "3856          0  ...    Frequent customer    Male  Arizona   46    9/1/2017   \n",
       "3859          0  ...    Frequent customer    Male  Arizona   46    9/1/2017   \n",
       "3866          0  ...    Frequent customer    Male  Arizona   46    9/1/2017   \n",
       "3868          0  ...    Frequent customer    Male  Arizona   46    9/1/2017   \n",
       "3870          0  ...    Frequent customer    Male  Arizona   46    9/1/2017   \n",
       "\n",
       "     num_of_dependants fam_status  income  region activity_flag  \n",
       "3856                 1    married  104257    West  Low activity  \n",
       "3859                 1    married  104257    West  Low activity  \n",
       "3866                 1    married  104257    West  Low activity  \n",
       "3868                 1    married  104257    West  Low activity  \n",
       "3870                 1    married  104257    West  Low activity  \n",
       "\n",
       "[5 rows x 33 columns]"
      ]
     },
     "execution_count": 27,
     "metadata": {},
     "output_type": "execute_result"
    }
   ],
   "source": [
    "# Check that it has values\n",
    "df_low.head()"
   ]
  },
  {
   "cell_type": "code",
   "execution_count": 28,
   "id": "a87cf8bb",
   "metadata": {},
   "outputs": [],
   "source": [
    "# Export the low-activity customer dataframe\n",
    "df_low.to_pickle(os.path.join (path, '02 Data', 'Prepared Data', 'low_activity_customers.pkl'))"
   ]
  },
  {
   "cell_type": "code",
   "execution_count": 29,
   "id": "7d54384e",
   "metadata": {},
   "outputs": [],
   "source": [
    "# Delete df_low to reduce memory \n",
    "del df_low"
   ]
  },
  {
   "cell_type": "code",
   "execution_count": 30,
   "id": "32b6ed4b",
   "metadata": {},
   "outputs": [],
   "source": [
    "# Create a new dataframe to hold alL the remaining customers with regular to high activity\n",
    "df_current = df_subset.loc[df_subset['activity_flag'] == 'Regular to high activity']"
   ]
  },
  {
   "cell_type": "code",
   "execution_count": 31,
   "id": "14ebe029",
   "metadata": {},
   "outputs": [
    {
     "data": {
      "text/html": [
       "<div>\n",
       "<style scoped>\n",
       "    .dataframe tbody tr th:only-of-type {\n",
       "        vertical-align: middle;\n",
       "    }\n",
       "\n",
       "    .dataframe tbody tr th {\n",
       "        vertical-align: top;\n",
       "    }\n",
       "\n",
       "    .dataframe thead th {\n",
       "        text-align: right;\n",
       "    }\n",
       "</style>\n",
       "<table border=\"1\" class=\"dataframe\">\n",
       "  <thead>\n",
       "    <tr style=\"text-align: right;\">\n",
       "      <th></th>\n",
       "      <th>order_id</th>\n",
       "      <th>user_id</th>\n",
       "      <th>order_number</th>\n",
       "      <th>order_day_of_week</th>\n",
       "      <th>order_hour_of_day</th>\n",
       "      <th>days_since_last_order</th>\n",
       "      <th>new_customer</th>\n",
       "      <th>product_id</th>\n",
       "      <th>add_to_cart_order</th>\n",
       "      <th>reordered</th>\n",
       "      <th>...</th>\n",
       "      <th>order_frequency_flag</th>\n",
       "      <th>gender</th>\n",
       "      <th>state</th>\n",
       "      <th>age</th>\n",
       "      <th>date_joined</th>\n",
       "      <th>num_of_dependants</th>\n",
       "      <th>fam_status</th>\n",
       "      <th>income</th>\n",
       "      <th>region</th>\n",
       "      <th>activity_flag</th>\n",
       "    </tr>\n",
       "  </thead>\n",
       "  <tbody>\n",
       "    <tr>\n",
       "      <th>0</th>\n",
       "      <td>2539329</td>\n",
       "      <td>1</td>\n",
       "      <td>1</td>\n",
       "      <td>2</td>\n",
       "      <td>8</td>\n",
       "      <td>NaN</td>\n",
       "      <td>True</td>\n",
       "      <td>196</td>\n",
       "      <td>1</td>\n",
       "      <td>0</td>\n",
       "      <td>...</td>\n",
       "      <td>Non-frequent customer</td>\n",
       "      <td>Female</td>\n",
       "      <td>Alabama</td>\n",
       "      <td>31</td>\n",
       "      <td>2/17/2019</td>\n",
       "      <td>3</td>\n",
       "      <td>married</td>\n",
       "      <td>40423</td>\n",
       "      <td>South</td>\n",
       "      <td>Regular to high activity</td>\n",
       "    </tr>\n",
       "    <tr>\n",
       "      <th>2</th>\n",
       "      <td>473747</td>\n",
       "      <td>1</td>\n",
       "      <td>3</td>\n",
       "      <td>3</td>\n",
       "      <td>12</td>\n",
       "      <td>21.0</td>\n",
       "      <td>False</td>\n",
       "      <td>196</td>\n",
       "      <td>1</td>\n",
       "      <td>1</td>\n",
       "      <td>...</td>\n",
       "      <td>Non-frequent customer</td>\n",
       "      <td>Female</td>\n",
       "      <td>Alabama</td>\n",
       "      <td>31</td>\n",
       "      <td>2/17/2019</td>\n",
       "      <td>3</td>\n",
       "      <td>married</td>\n",
       "      <td>40423</td>\n",
       "      <td>South</td>\n",
       "      <td>Regular to high activity</td>\n",
       "    </tr>\n",
       "    <tr>\n",
       "      <th>3</th>\n",
       "      <td>2254736</td>\n",
       "      <td>1</td>\n",
       "      <td>4</td>\n",
       "      <td>4</td>\n",
       "      <td>7</td>\n",
       "      <td>29.0</td>\n",
       "      <td>False</td>\n",
       "      <td>196</td>\n",
       "      <td>1</td>\n",
       "      <td>1</td>\n",
       "      <td>...</td>\n",
       "      <td>Non-frequent customer</td>\n",
       "      <td>Female</td>\n",
       "      <td>Alabama</td>\n",
       "      <td>31</td>\n",
       "      <td>2/17/2019</td>\n",
       "      <td>3</td>\n",
       "      <td>married</td>\n",
       "      <td>40423</td>\n",
       "      <td>South</td>\n",
       "      <td>Regular to high activity</td>\n",
       "    </tr>\n",
       "    <tr>\n",
       "      <th>6</th>\n",
       "      <td>550135</td>\n",
       "      <td>1</td>\n",
       "      <td>7</td>\n",
       "      <td>1</td>\n",
       "      <td>9</td>\n",
       "      <td>20.0</td>\n",
       "      <td>False</td>\n",
       "      <td>196</td>\n",
       "      <td>1</td>\n",
       "      <td>1</td>\n",
       "      <td>...</td>\n",
       "      <td>Non-frequent customer</td>\n",
       "      <td>Female</td>\n",
       "      <td>Alabama</td>\n",
       "      <td>31</td>\n",
       "      <td>2/17/2019</td>\n",
       "      <td>3</td>\n",
       "      <td>married</td>\n",
       "      <td>40423</td>\n",
       "      <td>South</td>\n",
       "      <td>Regular to high activity</td>\n",
       "    </tr>\n",
       "    <tr>\n",
       "      <th>10</th>\n",
       "      <td>2539329</td>\n",
       "      <td>1</td>\n",
       "      <td>1</td>\n",
       "      <td>2</td>\n",
       "      <td>8</td>\n",
       "      <td>NaN</td>\n",
       "      <td>True</td>\n",
       "      <td>14084</td>\n",
       "      <td>2</td>\n",
       "      <td>0</td>\n",
       "      <td>...</td>\n",
       "      <td>Non-frequent customer</td>\n",
       "      <td>Female</td>\n",
       "      <td>Alabama</td>\n",
       "      <td>31</td>\n",
       "      <td>2/17/2019</td>\n",
       "      <td>3</td>\n",
       "      <td>married</td>\n",
       "      <td>40423</td>\n",
       "      <td>South</td>\n",
       "      <td>Regular to high activity</td>\n",
       "    </tr>\n",
       "  </tbody>\n",
       "</table>\n",
       "<p>5 rows × 33 columns</p>\n",
       "</div>"
      ],
      "text/plain": [
       "    order_id user_id  order_number  order_day_of_week  order_hour_of_day  \\\n",
       "0    2539329       1             1                  2                  8   \n",
       "2     473747       1             3                  3                 12   \n",
       "3    2254736       1             4                  4                  7   \n",
       "6     550135       1             7                  1                  9   \n",
       "10   2539329       1             1                  2                  8   \n",
       "\n",
       "    days_since_last_order  new_customer  product_id  add_to_cart_order  \\\n",
       "0                     NaN          True         196                  1   \n",
       "2                    21.0         False         196                  1   \n",
       "3                    29.0         False         196                  1   \n",
       "6                    20.0         False         196                  1   \n",
       "10                    NaN          True       14084                  2   \n",
       "\n",
       "    reordered  ...   order_frequency_flag  gender    state  age date_joined  \\\n",
       "0           0  ...  Non-frequent customer  Female  Alabama   31   2/17/2019   \n",
       "2           1  ...  Non-frequent customer  Female  Alabama   31   2/17/2019   \n",
       "3           1  ...  Non-frequent customer  Female  Alabama   31   2/17/2019   \n",
       "6           1  ...  Non-frequent customer  Female  Alabama   31   2/17/2019   \n",
       "10          0  ...  Non-frequent customer  Female  Alabama   31   2/17/2019   \n",
       "\n",
       "   num_of_dependants fam_status income  region             activity_flag  \n",
       "0                  3    married  40423   South  Regular to high activity  \n",
       "2                  3    married  40423   South  Regular to high activity  \n",
       "3                  3    married  40423   South  Regular to high activity  \n",
       "6                  3    married  40423   South  Regular to high activity  \n",
       "10                 3    married  40423   South  Regular to high activity  \n",
       "\n",
       "[5 rows x 33 columns]"
      ]
     },
     "execution_count": 31,
     "metadata": {},
     "output_type": "execute_result"
    }
   ],
   "source": [
    "df_current.head()"
   ]
  },
  {
   "cell_type": "markdown",
   "id": "c13ab170",
   "metadata": {},
   "source": [
    "# 05. Customer profiling"
   ]
  },
  {
   "cell_type": "markdown",
   "id": "4c3edb9e",
   "metadata": {},
   "source": [
    "#### Create profiles based on factors such as age, income, certain goods in the 'department_id' column, and number of dependents"
   ]
  },
  {
   "cell_type": "markdown",
   "id": "cffd3b9b",
   "metadata": {},
   "source": [
    "### Age Profile"
   ]
  },
  {
   "cell_type": "code",
   "execution_count": 32,
   "id": "f3121fb8",
   "metadata": {},
   "outputs": [
    {
     "name": "stderr",
     "output_type": "stream",
     "text": [
      "C:\\Users\\blim9\\AppData\\Local\\Temp\\ipykernel_3120\\2298736874.py:2: SettingWithCopyWarning: \n",
      "A value is trying to be set on a copy of a slice from a DataFrame.\n",
      "Try using .loc[row_indexer,col_indexer] = value instead\n",
      "\n",
      "See the caveats in the documentation: https://pandas.pydata.org/pandas-docs/stable/user_guide/indexing.html#returning-a-view-versus-a-copy\n",
      "  df_current.loc[df_current['age'] <= 35, 'age_group'] = 'Young adult'\n"
     ]
    }
   ],
   "source": [
    "# Create a profile based on age. It will be split up between three categories: Young adult, Middle aged, Senior or elderly\n",
    "df_current.loc[df_current['age'] <= 35, 'age_group'] = 'Young adult'\n",
    "df_current.loc[(df_current['age'] > 35) & (df_current['age'] <= 55), 'age_group'] = 'Middle aged'\n",
    "df_current.loc[df_current['age'] > 55, 'age_group'] = 'Senior or elderly'"
   ]
  },
  {
   "cell_type": "code",
   "execution_count": 33,
   "id": "a750665a",
   "metadata": {},
   "outputs": [
    {
     "data": {
      "text/plain": [
       "Senior or elderly    3751663\n",
       "Middle aged          2915074\n",
       "Young adult          2622016\n",
       "Name: age_group, dtype: int64"
      ]
     },
     "execution_count": 33,
     "metadata": {},
     "output_type": "execute_result"
    }
   ],
   "source": [
    "df_current['age_group'].value_counts(dropna = False)"
   ]
  },
  {
   "cell_type": "markdown",
   "id": "518cc90c",
   "metadata": {},
   "source": [
    "### Income Profile"
   ]
  },
  {
   "cell_type": "code",
   "execution_count": 34,
   "id": "0aacbf0d",
   "metadata": {},
   "outputs": [
    {
     "name": "stderr",
     "output_type": "stream",
     "text": [
      "C:\\Users\\blim9\\AppData\\Local\\Temp\\ipykernel_3120\\2061231513.py:2: SettingWithCopyWarning: \n",
      "A value is trying to be set on a copy of a slice from a DataFrame.\n",
      "Try using .loc[row_indexer,col_indexer] = value instead\n",
      "\n",
      "See the caveats in the documentation: https://pandas.pydata.org/pandas-docs/stable/user_guide/indexing.html#returning-a-view-versus-a-copy\n",
      "  df_current.loc[df_current['income'] <= 55000, 'income_level'] = 'Low income'\n"
     ]
    }
   ],
   "source": [
    "# Create a profile based on income. It will be split up between three categories: Low income, Middle income, High income\n",
    "df_current.loc[df_current['income'] <= 55000, 'income_level'] = 'Low income'\n",
    "df_current.loc[(df_current['income'] > 55000) & (df_current['income'] <= 140000), 'income_level'] = 'Middle income'\n",
    "df_current.loc[df_current['income'] > 140000, 'income_level'] = 'High income'"
   ]
  },
  {
   "cell_type": "code",
   "execution_count": 35,
   "id": "0c580c8a",
   "metadata": {},
   "outputs": [
    {
     "data": {
      "text/plain": [
       "Middle income    6262542\n",
       "High income      1691022\n",
       "Low income       1335189\n",
       "Name: income_level, dtype: int64"
      ]
     },
     "execution_count": 35,
     "metadata": {},
     "output_type": "execute_result"
    }
   ],
   "source": [
    "df_current['income_level'].value_counts(dropna = False)"
   ]
  },
  {
   "cell_type": "markdown",
   "id": "62be96fc",
   "metadata": {},
   "source": [
    "### Number of dependents profile"
   ]
  },
  {
   "cell_type": "code",
   "execution_count": 36,
   "id": "7ed1a836",
   "metadata": {},
   "outputs": [
    {
     "name": "stderr",
     "output_type": "stream",
     "text": [
      "C:\\Users\\blim9\\AppData\\Local\\Temp\\ipykernel_3120\\3252445815.py:2: SettingWithCopyWarning: \n",
      "A value is trying to be set on a copy of a slice from a DataFrame.\n",
      "Try using .loc[row_indexer,col_indexer] = value instead\n",
      "\n",
      "See the caveats in the documentation: https://pandas.pydata.org/pandas-docs/stable/user_guide/indexing.html#returning-a-view-versus-a-copy\n",
      "  df_current.loc[df_current['num_of_dependants'] > 0, 'has_dependents'] = 'True'\n"
     ]
    }
   ],
   "source": [
    "# Create a profile based on the number of dependents. It will be split up between two categories: True or False\n",
    "df_current.loc[df_current['num_of_dependants'] > 0, 'has_dependents'] = 'True'\n",
    "df_current.loc[df_current['num_of_dependants'] == 0, 'has_dependents'] = 'False'"
   ]
  },
  {
   "cell_type": "code",
   "execution_count": 37,
   "id": "a0fc608c",
   "metadata": {},
   "outputs": [
    {
     "data": {
      "text/plain": [
       "True     6968455\n",
       "False    2320298\n",
       "Name: has_dependents, dtype: int64"
      ]
     },
     "execution_count": 37,
     "metadata": {},
     "output_type": "execute_result"
    }
   ],
   "source": [
    "df_current['has_dependents'].value_counts(dropna = False)"
   ]
  },
  {
   "cell_type": "markdown",
   "id": "2f74c443",
   "metadata": {},
   "source": [
    "### Purchased goods profile"
   ]
  },
  {
   "cell_type": "code",
   "execution_count": 38,
   "id": "b22efdff",
   "metadata": {},
   "outputs": [],
   "source": [
    "# Import the departments_wrangled csv file to cross reference and use as a data dictionary\n",
    "dept = pd.read_csv(os.path.join (path, '02 Data', 'Prepared Data', 'departments_wrangled.csv'), index_col = False)"
   ]
  },
  {
   "cell_type": "code",
   "execution_count": 39,
   "id": "60991a49",
   "metadata": {},
   "outputs": [],
   "source": [
    "# Create a data dictionary\n",
    "dept_zip = zip(dept['Unnamed: 0'], dept['department'])"
   ]
  },
  {
   "cell_type": "code",
   "execution_count": 40,
   "id": "f5fba1f0",
   "metadata": {},
   "outputs": [],
   "source": [
    "data_dict = dict(dept_zip)"
   ]
  },
  {
   "cell_type": "code",
   "execution_count": 41,
   "id": "af74511c",
   "metadata": {},
   "outputs": [
    {
     "data": {
      "text/plain": [
       "{1: 'frozen',\n",
       " 2: 'other',\n",
       " 3: 'bakery',\n",
       " 4: 'produce',\n",
       " 5: 'alcohol',\n",
       " 6: 'international',\n",
       " 7: 'beverages',\n",
       " 8: 'pets',\n",
       " 9: 'dry goods pasta',\n",
       " 10: 'bulk',\n",
       " 11: 'personal care',\n",
       " 12: 'meat seafood',\n",
       " 13: 'pantry',\n",
       " 14: 'breakfast',\n",
       " 15: 'canned goods',\n",
       " 16: 'dairy eggs',\n",
       " 17: 'household',\n",
       " 18: 'babies',\n",
       " 19: 'snacks',\n",
       " 20: 'deli',\n",
       " 21: 'missing'}"
      ]
     },
     "execution_count": 41,
     "metadata": {},
     "output_type": "execute_result"
    }
   ],
   "source": [
    "data_dict"
   ]
  },
  {
   "cell_type": "code",
   "execution_count": 42,
   "id": "592d4dff",
   "metadata": {},
   "outputs": [
    {
     "name": "stderr",
     "output_type": "stream",
     "text": [
      "C:\\Users\\blim9\\AppData\\Local\\Temp\\ipykernel_3120\\3981060998.py:2: SettingWithCopyWarning: \n",
      "A value is trying to be set on a copy of a slice from a DataFrame.\n",
      "Try using .loc[row_indexer,col_indexer] = value instead\n",
      "\n",
      "See the caveats in the documentation: https://pandas.pydata.org/pandas-docs/stable/user_guide/indexing.html#returning-a-view-versus-a-copy\n",
      "  df_current['category_purchases'] = df_current['department_id'].map(data_dict)\n"
     ]
    }
   ],
   "source": [
    "# Map the departmental purchases to the department_id\n",
    "df_current['category_purchases'] = df_current['department_id'].map(data_dict)"
   ]
  },
  {
   "cell_type": "code",
   "execution_count": 43,
   "id": "fa9e76a7",
   "metadata": {},
   "outputs": [
    {
     "data": {
      "text/html": [
       "<div>\n",
       "<style scoped>\n",
       "    .dataframe tbody tr th:only-of-type {\n",
       "        vertical-align: middle;\n",
       "    }\n",
       "\n",
       "    .dataframe tbody tr th {\n",
       "        vertical-align: top;\n",
       "    }\n",
       "\n",
       "    .dataframe thead th {\n",
       "        text-align: right;\n",
       "    }\n",
       "</style>\n",
       "<table border=\"1\" class=\"dataframe\">\n",
       "  <thead>\n",
       "    <tr style=\"text-align: right;\">\n",
       "      <th></th>\n",
       "      <th>order_id</th>\n",
       "      <th>user_id</th>\n",
       "      <th>order_number</th>\n",
       "      <th>order_day_of_week</th>\n",
       "      <th>order_hour_of_day</th>\n",
       "      <th>days_since_last_order</th>\n",
       "      <th>new_customer</th>\n",
       "      <th>product_id</th>\n",
       "      <th>add_to_cart_order</th>\n",
       "      <th>reordered</th>\n",
       "      <th>...</th>\n",
       "      <th>date_joined</th>\n",
       "      <th>num_of_dependants</th>\n",
       "      <th>fam_status</th>\n",
       "      <th>income</th>\n",
       "      <th>region</th>\n",
       "      <th>activity_flag</th>\n",
       "      <th>age_group</th>\n",
       "      <th>income_level</th>\n",
       "      <th>has_dependents</th>\n",
       "      <th>category_purchases</th>\n",
       "    </tr>\n",
       "  </thead>\n",
       "  <tbody>\n",
       "    <tr>\n",
       "      <th>0</th>\n",
       "      <td>2539329</td>\n",
       "      <td>1</td>\n",
       "      <td>1</td>\n",
       "      <td>2</td>\n",
       "      <td>8</td>\n",
       "      <td>NaN</td>\n",
       "      <td>True</td>\n",
       "      <td>196</td>\n",
       "      <td>1</td>\n",
       "      <td>0</td>\n",
       "      <td>...</td>\n",
       "      <td>2/17/2019</td>\n",
       "      <td>3</td>\n",
       "      <td>married</td>\n",
       "      <td>40423</td>\n",
       "      <td>South</td>\n",
       "      <td>Regular to high activity</td>\n",
       "      <td>Young adult</td>\n",
       "      <td>Low income</td>\n",
       "      <td>True</td>\n",
       "      <td>beverages</td>\n",
       "    </tr>\n",
       "    <tr>\n",
       "      <th>2</th>\n",
       "      <td>473747</td>\n",
       "      <td>1</td>\n",
       "      <td>3</td>\n",
       "      <td>3</td>\n",
       "      <td>12</td>\n",
       "      <td>21.0</td>\n",
       "      <td>False</td>\n",
       "      <td>196</td>\n",
       "      <td>1</td>\n",
       "      <td>1</td>\n",
       "      <td>...</td>\n",
       "      <td>2/17/2019</td>\n",
       "      <td>3</td>\n",
       "      <td>married</td>\n",
       "      <td>40423</td>\n",
       "      <td>South</td>\n",
       "      <td>Regular to high activity</td>\n",
       "      <td>Young adult</td>\n",
       "      <td>Low income</td>\n",
       "      <td>True</td>\n",
       "      <td>beverages</td>\n",
       "    </tr>\n",
       "    <tr>\n",
       "      <th>3</th>\n",
       "      <td>2254736</td>\n",
       "      <td>1</td>\n",
       "      <td>4</td>\n",
       "      <td>4</td>\n",
       "      <td>7</td>\n",
       "      <td>29.0</td>\n",
       "      <td>False</td>\n",
       "      <td>196</td>\n",
       "      <td>1</td>\n",
       "      <td>1</td>\n",
       "      <td>...</td>\n",
       "      <td>2/17/2019</td>\n",
       "      <td>3</td>\n",
       "      <td>married</td>\n",
       "      <td>40423</td>\n",
       "      <td>South</td>\n",
       "      <td>Regular to high activity</td>\n",
       "      <td>Young adult</td>\n",
       "      <td>Low income</td>\n",
       "      <td>True</td>\n",
       "      <td>beverages</td>\n",
       "    </tr>\n",
       "    <tr>\n",
       "      <th>6</th>\n",
       "      <td>550135</td>\n",
       "      <td>1</td>\n",
       "      <td>7</td>\n",
       "      <td>1</td>\n",
       "      <td>9</td>\n",
       "      <td>20.0</td>\n",
       "      <td>False</td>\n",
       "      <td>196</td>\n",
       "      <td>1</td>\n",
       "      <td>1</td>\n",
       "      <td>...</td>\n",
       "      <td>2/17/2019</td>\n",
       "      <td>3</td>\n",
       "      <td>married</td>\n",
       "      <td>40423</td>\n",
       "      <td>South</td>\n",
       "      <td>Regular to high activity</td>\n",
       "      <td>Young adult</td>\n",
       "      <td>Low income</td>\n",
       "      <td>True</td>\n",
       "      <td>beverages</td>\n",
       "    </tr>\n",
       "    <tr>\n",
       "      <th>10</th>\n",
       "      <td>2539329</td>\n",
       "      <td>1</td>\n",
       "      <td>1</td>\n",
       "      <td>2</td>\n",
       "      <td>8</td>\n",
       "      <td>NaN</td>\n",
       "      <td>True</td>\n",
       "      <td>14084</td>\n",
       "      <td>2</td>\n",
       "      <td>0</td>\n",
       "      <td>...</td>\n",
       "      <td>2/17/2019</td>\n",
       "      <td>3</td>\n",
       "      <td>married</td>\n",
       "      <td>40423</td>\n",
       "      <td>South</td>\n",
       "      <td>Regular to high activity</td>\n",
       "      <td>Young adult</td>\n",
       "      <td>Low income</td>\n",
       "      <td>True</td>\n",
       "      <td>dairy eggs</td>\n",
       "    </tr>\n",
       "  </tbody>\n",
       "</table>\n",
       "<p>5 rows × 37 columns</p>\n",
       "</div>"
      ],
      "text/plain": [
       "    order_id user_id  order_number  order_day_of_week  order_hour_of_day  \\\n",
       "0    2539329       1             1                  2                  8   \n",
       "2     473747       1             3                  3                 12   \n",
       "3    2254736       1             4                  4                  7   \n",
       "6     550135       1             7                  1                  9   \n",
       "10   2539329       1             1                  2                  8   \n",
       "\n",
       "    days_since_last_order  new_customer  product_id  add_to_cart_order  \\\n",
       "0                     NaN          True         196                  1   \n",
       "2                    21.0         False         196                  1   \n",
       "3                    29.0         False         196                  1   \n",
       "6                    20.0         False         196                  1   \n",
       "10                    NaN          True       14084                  2   \n",
       "\n",
       "    reordered  ... date_joined  num_of_dependants  fam_status  income region  \\\n",
       "0           0  ...   2/17/2019                  3     married   40423  South   \n",
       "2           1  ...   2/17/2019                  3     married   40423  South   \n",
       "3           1  ...   2/17/2019                  3     married   40423  South   \n",
       "6           1  ...   2/17/2019                  3     married   40423  South   \n",
       "10          0  ...   2/17/2019                  3     married   40423  South   \n",
       "\n",
       "               activity_flag    age_group income_level  has_dependents  \\\n",
       "0   Regular to high activity  Young adult   Low income            True   \n",
       "2   Regular to high activity  Young adult   Low income            True   \n",
       "3   Regular to high activity  Young adult   Low income            True   \n",
       "6   Regular to high activity  Young adult   Low income            True   \n",
       "10  Regular to high activity  Young adult   Low income            True   \n",
       "\n",
       "   category_purchases  \n",
       "0           beverages  \n",
       "2           beverages  \n",
       "3           beverages  \n",
       "6           beverages  \n",
       "10         dairy eggs  \n",
       "\n",
       "[5 rows x 37 columns]"
      ]
     },
     "execution_count": 43,
     "metadata": {},
     "output_type": "execute_result"
    }
   ],
   "source": [
    "df_current.head()"
   ]
  },
  {
   "cell_type": "markdown",
   "id": "fbee737c",
   "metadata": {},
   "source": [
    "#### Pet status profile"
   ]
  },
  {
   "cell_type": "code",
   "execution_count": 44,
   "id": "5d268b0b",
   "metadata": {},
   "outputs": [
    {
     "name": "stderr",
     "output_type": "stream",
     "text": [
      "C:\\Users\\blim9\\AppData\\Local\\Temp\\ipykernel_3120\\4197929637.py:2: SettingWithCopyWarning: \n",
      "A value is trying to be set on a copy of a slice from a DataFrame.\n",
      "Try using .loc[row_indexer,col_indexer] = value instead\n",
      "\n",
      "See the caveats in the documentation: https://pandas.pydata.org/pandas-docs/stable/user_guide/indexing.html#returning-a-view-versus-a-copy\n",
      "  df_current['pet_owners'] = [1 if x == 'pets' else 0 for x in df_current['category_purchases']]\n",
      "C:\\Users\\blim9\\AppData\\Local\\Temp\\ipykernel_3120\\4197929637.py:3: SettingWithCopyWarning: \n",
      "A value is trying to be set on a copy of a slice from a DataFrame.\n",
      "Try using .loc[row_indexer,col_indexer] = value instead\n",
      "\n",
      "See the caveats in the documentation: https://pandas.pydata.org/pandas-docs/stable/user_guide/indexing.html#returning-a-view-versus-a-copy\n",
      "  df_current['pet_owners']=df_current.groupby(['user_id'])['pet_owners'].transform(np.max)\n"
     ]
    },
    {
     "data": {
      "text/plain": [
       "0    8586744\n",
       "1     702009\n",
       "Name: pet_owners, dtype: int64"
      ]
     },
     "execution_count": 44,
     "metadata": {},
     "output_type": "execute_result"
    }
   ],
   "source": [
    "# Create a pet owners flag where if they bought pet products, it's (1) and if not, then (0) like boolean values True/False\n",
    "df_current['pet_owners'] = [1 if x == 'pets' else 0 for x in df_current['category_purchases']]\n",
    "df_current['pet_owners']=df_current.groupby(['user_id'])['pet_owners'].transform(np.max)\n",
    "df_current['pet_owners'].value_counts(dropna = False)"
   ]
  },
  {
   "cell_type": "markdown",
   "id": "e23d5560",
   "metadata": {},
   "source": [
    "#### Baby status profile"
   ]
  },
  {
   "cell_type": "code",
   "execution_count": 45,
   "id": "06b0ed82",
   "metadata": {},
   "outputs": [
    {
     "name": "stderr",
     "output_type": "stream",
     "text": [
      "C:\\Users\\blim9\\AppData\\Local\\Temp\\ipykernel_3120\\894456639.py:2: SettingWithCopyWarning: \n",
      "A value is trying to be set on a copy of a slice from a DataFrame.\n",
      "Try using .loc[row_indexer,col_indexer] = value instead\n",
      "\n",
      "See the caveats in the documentation: https://pandas.pydata.org/pandas-docs/stable/user_guide/indexing.html#returning-a-view-versus-a-copy\n",
      "  df_current['baby_status'] = [1 if x == 'babies' else 0 for x in df_current['category_purchases']]\n",
      "C:\\Users\\blim9\\AppData\\Local\\Temp\\ipykernel_3120\\894456639.py:3: SettingWithCopyWarning: \n",
      "A value is trying to be set on a copy of a slice from a DataFrame.\n",
      "Try using .loc[row_indexer,col_indexer] = value instead\n",
      "\n",
      "See the caveats in the documentation: https://pandas.pydata.org/pandas-docs/stable/user_guide/indexing.html#returning-a-view-versus-a-copy\n",
      "  df_current['baby_status']=df_current.groupby(['user_id'])['baby_status'].transform(np.max)\n"
     ]
    },
    {
     "data": {
      "text/plain": [
       "0    7023318\n",
       "1    2265435\n",
       "Name: baby_status, dtype: int64"
      ]
     },
     "execution_count": 45,
     "metadata": {},
     "output_type": "execute_result"
    }
   ],
   "source": [
    "# Create a new parents flag where if they bought baby products, it's (1) and if not, then (0) like boolean values True/False\n",
    "df_current['baby_status'] = [1 if x == 'babies' else 0 for x in df_current['category_purchases']]\n",
    "df_current['baby_status']=df_current.groupby(['user_id'])['baby_status'].transform(np.max)\n",
    "df_current['baby_status'].value_counts(dropna = False)"
   ]
  },
  {
   "cell_type": "markdown",
   "id": "d7bbf39e",
   "metadata": {},
   "source": [
    "#### Alcohol status profile"
   ]
  },
  {
   "cell_type": "code",
   "execution_count": 46,
   "id": "05878552",
   "metadata": {},
   "outputs": [
    {
     "name": "stderr",
     "output_type": "stream",
     "text": [
      "C:\\Users\\blim9\\AppData\\Local\\Temp\\ipykernel_3120\\1782701243.py:2: SettingWithCopyWarning: \n",
      "A value is trying to be set on a copy of a slice from a DataFrame.\n",
      "Try using .loc[row_indexer,col_indexer] = value instead\n",
      "\n",
      "See the caveats in the documentation: https://pandas.pydata.org/pandas-docs/stable/user_guide/indexing.html#returning-a-view-versus-a-copy\n",
      "  df_current['alcohol_status'] = [1 if x == 'alcohol' else 0 for x in df_current['category_purchases']]\n",
      "C:\\Users\\blim9\\AppData\\Local\\Temp\\ipykernel_3120\\1782701243.py:3: SettingWithCopyWarning: \n",
      "A value is trying to be set on a copy of a slice from a DataFrame.\n",
      "Try using .loc[row_indexer,col_indexer] = value instead\n",
      "\n",
      "See the caveats in the documentation: https://pandas.pydata.org/pandas-docs/stable/user_guide/indexing.html#returning-a-view-versus-a-copy\n",
      "  df_current['alcohol_status']=df_current.groupby(['user_id'])['alcohol_status'].transform(np.max)\n"
     ]
    },
    {
     "data": {
      "text/plain": [
       "0    8758198\n",
       "1     530555\n",
       "Name: alcohol_status, dtype: int64"
      ]
     },
     "execution_count": 46,
     "metadata": {},
     "output_type": "execute_result"
    }
   ],
   "source": [
    "# Create a alcohol drinker flag where if they bought alcoholic beverages, it's (1) and if not, then (0) like boolean values True/False\n",
    "df_current['alcohol_status'] = [1 if x == 'alcohol' else 0 for x in df_current['category_purchases']]\n",
    "df_current['alcohol_status']=df_current.groupby(['user_id'])['alcohol_status'].transform(np.max)\n",
    "df_current['alcohol_status'].value_counts(dropna = False)"
   ]
  },
  {
   "cell_type": "markdown",
   "id": "1ff3a80c",
   "metadata": {},
   "source": [
    "# 06. Aggregate the min, max, mean variables for usage frequency and expenditure"
   ]
  },
  {
   "cell_type": "markdown",
   "id": "c863baa1",
   "metadata": {},
   "source": [
    "### Age Profile"
   ]
  },
  {
   "cell_type": "code",
   "execution_count": 47,
   "id": "f9063d3d",
   "metadata": {},
   "outputs": [
    {
     "data": {
      "text/html": [
       "<div>\n",
       "<style scoped>\n",
       "    .dataframe tbody tr th:only-of-type {\n",
       "        vertical-align: middle;\n",
       "    }\n",
       "\n",
       "    .dataframe tbody tr th {\n",
       "        vertical-align: top;\n",
       "    }\n",
       "\n",
       "    .dataframe thead tr th {\n",
       "        text-align: left;\n",
       "    }\n",
       "\n",
       "    .dataframe thead tr:last-of-type th {\n",
       "        text-align: right;\n",
       "    }\n",
       "</style>\n",
       "<table border=\"1\" class=\"dataframe\">\n",
       "  <thead>\n",
       "    <tr>\n",
       "      <th></th>\n",
       "      <th colspan=\"3\" halign=\"left\">prices</th>\n",
       "    </tr>\n",
       "    <tr>\n",
       "      <th></th>\n",
       "      <th>min</th>\n",
       "      <th>max</th>\n",
       "      <th>mean</th>\n",
       "    </tr>\n",
       "    <tr>\n",
       "      <th>age_group</th>\n",
       "      <th></th>\n",
       "      <th></th>\n",
       "      <th></th>\n",
       "    </tr>\n",
       "  </thead>\n",
       "  <tbody>\n",
       "    <tr>\n",
       "      <th>Middle aged</th>\n",
       "      <td>1.0</td>\n",
       "      <td>25.0</td>\n",
       "      <td>7.785408</td>\n",
       "    </tr>\n",
       "    <tr>\n",
       "      <th>Senior or elderly</th>\n",
       "      <td>1.0</td>\n",
       "      <td>25.0</td>\n",
       "      <td>7.796429</td>\n",
       "    </tr>\n",
       "    <tr>\n",
       "      <th>Young adult</th>\n",
       "      <td>1.0</td>\n",
       "      <td>25.0</td>\n",
       "      <td>7.782211</td>\n",
       "    </tr>\n",
       "  </tbody>\n",
       "</table>\n",
       "</div>"
      ],
      "text/plain": [
       "                  prices                \n",
       "                     min   max      mean\n",
       "age_group                               \n",
       "Middle aged          1.0  25.0  7.785408\n",
       "Senior or elderly    1.0  25.0  7.796429\n",
       "Young adult          1.0  25.0  7.782211"
      ]
     },
     "execution_count": 47,
     "metadata": {},
     "output_type": "execute_result"
    }
   ],
   "source": [
    "# Aggregate the max, mean, and min for the AGE profile\n",
    "df_current.groupby('age_group').agg({'prices': ['min', 'max', 'mean']})"
   ]
  },
  {
   "cell_type": "markdown",
   "id": "8ea1355f",
   "metadata": {},
   "source": [
    "### Income Profile"
   ]
  },
  {
   "cell_type": "code",
   "execution_count": 48,
   "id": "c6e3082f",
   "metadata": {},
   "outputs": [
    {
     "data": {
      "text/html": [
       "<div>\n",
       "<style scoped>\n",
       "    .dataframe tbody tr th:only-of-type {\n",
       "        vertical-align: middle;\n",
       "    }\n",
       "\n",
       "    .dataframe tbody tr th {\n",
       "        vertical-align: top;\n",
       "    }\n",
       "\n",
       "    .dataframe thead tr th {\n",
       "        text-align: left;\n",
       "    }\n",
       "\n",
       "    .dataframe thead tr:last-of-type th {\n",
       "        text-align: right;\n",
       "    }\n",
       "</style>\n",
       "<table border=\"1\" class=\"dataframe\">\n",
       "  <thead>\n",
       "    <tr>\n",
       "      <th></th>\n",
       "      <th colspan=\"3\" halign=\"left\">income</th>\n",
       "    </tr>\n",
       "    <tr>\n",
       "      <th></th>\n",
       "      <th>min</th>\n",
       "      <th>max</th>\n",
       "      <th>mean</th>\n",
       "    </tr>\n",
       "    <tr>\n",
       "      <th>income_level</th>\n",
       "      <th></th>\n",
       "      <th></th>\n",
       "      <th></th>\n",
       "    </tr>\n",
       "  </thead>\n",
       "  <tbody>\n",
       "    <tr>\n",
       "      <th>High income</th>\n",
       "      <td>140001</td>\n",
       "      <td>593901</td>\n",
       "      <td>162565.393762</td>\n",
       "    </tr>\n",
       "    <tr>\n",
       "      <th>Low income</th>\n",
       "      <td>25903</td>\n",
       "      <td>54999</td>\n",
       "      <td>43006.003461</td>\n",
       "    </tr>\n",
       "    <tr>\n",
       "      <th>Middle income</th>\n",
       "      <td>55001</td>\n",
       "      <td>139998</td>\n",
       "      <td>94764.480611</td>\n",
       "    </tr>\n",
       "  </tbody>\n",
       "</table>\n",
       "</div>"
      ],
      "text/plain": [
       "               income                       \n",
       "                  min     max           mean\n",
       "income_level                                \n",
       "High income    140001  593901  162565.393762\n",
       "Low income      25903   54999   43006.003461\n",
       "Middle income   55001  139998   94764.480611"
      ]
     },
     "execution_count": 48,
     "metadata": {},
     "output_type": "execute_result"
    }
   ],
   "source": [
    "# Aggregate the max, mean, and min for the INCOME profile\n",
    "df_current.groupby('income_level').agg({'income': ['min', 'max', 'mean']})"
   ]
  },
  {
   "cell_type": "markdown",
   "id": "01dc340b",
   "metadata": {},
   "source": [
    "### Pet owners Profile"
   ]
  },
  {
   "cell_type": "code",
   "execution_count": 49,
   "id": "ec8ab8f9",
   "metadata": {},
   "outputs": [],
   "source": [
    "# Create a subset of customers who have pets\n",
    "df_pets = df_current.loc[df_current['category_purchases'] == 'pets']"
   ]
  },
  {
   "cell_type": "code",
   "execution_count": 50,
   "id": "1a33b24b",
   "metadata": {},
   "outputs": [
    {
     "data": {
      "text/html": [
       "<div>\n",
       "<style scoped>\n",
       "    .dataframe tbody tr th:only-of-type {\n",
       "        vertical-align: middle;\n",
       "    }\n",
       "\n",
       "    .dataframe tbody tr th {\n",
       "        vertical-align: top;\n",
       "    }\n",
       "\n",
       "    .dataframe thead tr th {\n",
       "        text-align: left;\n",
       "    }\n",
       "\n",
       "    .dataframe thead tr:last-of-type th {\n",
       "        text-align: right;\n",
       "    }\n",
       "</style>\n",
       "<table border=\"1\" class=\"dataframe\">\n",
       "  <thead>\n",
       "    <tr>\n",
       "      <th></th>\n",
       "      <th colspan=\"3\" halign=\"left\">prices</th>\n",
       "    </tr>\n",
       "    <tr>\n",
       "      <th></th>\n",
       "      <th>min</th>\n",
       "      <th>max</th>\n",
       "      <th>mean</th>\n",
       "    </tr>\n",
       "    <tr>\n",
       "      <th>category_purchases</th>\n",
       "      <th></th>\n",
       "      <th></th>\n",
       "      <th></th>\n",
       "    </tr>\n",
       "  </thead>\n",
       "  <tbody>\n",
       "    <tr>\n",
       "      <th>pets</th>\n",
       "      <td>1.0</td>\n",
       "      <td>15.0</td>\n",
       "      <td>7.875008</td>\n",
       "    </tr>\n",
       "  </tbody>\n",
       "</table>\n",
       "</div>"
      ],
      "text/plain": [
       "                   prices                \n",
       "                      min   max      mean\n",
       "category_purchases                       \n",
       "pets                  1.0  15.0  7.875008"
      ]
     },
     "execution_count": 50,
     "metadata": {},
     "output_type": "execute_result"
    }
   ],
   "source": [
    "# Aggregate the max, mean, and min for the PETS profile\n",
    "df_pets.groupby('category_purchases').agg({'prices': ['min', 'max', 'mean']})"
   ]
  },
  {
   "cell_type": "markdown",
   "id": "0ff1c477",
   "metadata": {},
   "source": [
    "### New parents Profile"
   ]
  },
  {
   "cell_type": "code",
   "execution_count": 51,
   "id": "80a9b2c2",
   "metadata": {},
   "outputs": [],
   "source": [
    "# Create a subset of customers who bought baby products indicating they may be new parents\n",
    "df_babies = df_current.loc[df_current['category_purchases'] == 'babies']"
   ]
  },
  {
   "cell_type": "code",
   "execution_count": 52,
   "id": "094722c9",
   "metadata": {},
   "outputs": [
    {
     "data": {
      "text/html": [
       "<div>\n",
       "<style scoped>\n",
       "    .dataframe tbody tr th:only-of-type {\n",
       "        vertical-align: middle;\n",
       "    }\n",
       "\n",
       "    .dataframe tbody tr th {\n",
       "        vertical-align: top;\n",
       "    }\n",
       "\n",
       "    .dataframe thead tr th {\n",
       "        text-align: left;\n",
       "    }\n",
       "\n",
       "    .dataframe thead tr:last-of-type th {\n",
       "        text-align: right;\n",
       "    }\n",
       "</style>\n",
       "<table border=\"1\" class=\"dataframe\">\n",
       "  <thead>\n",
       "    <tr>\n",
       "      <th></th>\n",
       "      <th colspan=\"3\" halign=\"left\">prices</th>\n",
       "    </tr>\n",
       "    <tr>\n",
       "      <th></th>\n",
       "      <th>min</th>\n",
       "      <th>max</th>\n",
       "      <th>mean</th>\n",
       "    </tr>\n",
       "    <tr>\n",
       "      <th>category_purchases</th>\n",
       "      <th></th>\n",
       "      <th></th>\n",
       "      <th></th>\n",
       "    </tr>\n",
       "  </thead>\n",
       "  <tbody>\n",
       "    <tr>\n",
       "      <th>babies</th>\n",
       "      <td>1.0</td>\n",
       "      <td>15.0</td>\n",
       "      <td>7.638249</td>\n",
       "    </tr>\n",
       "  </tbody>\n",
       "</table>\n",
       "</div>"
      ],
      "text/plain": [
       "                   prices                \n",
       "                      min   max      mean\n",
       "category_purchases                       \n",
       "babies                1.0  15.0  7.638249"
      ]
     },
     "execution_count": 52,
     "metadata": {},
     "output_type": "execute_result"
    }
   ],
   "source": [
    "# Aggregate the max, mean, and min for the BABIES profile\n",
    "df_babies.groupby('category_purchases').agg({'prices': ['min', 'max', 'mean']})"
   ]
  },
  {
   "cell_type": "markdown",
   "id": "1729764a",
   "metadata": {},
   "source": [
    "### Alcohol drinkers Profile"
   ]
  },
  {
   "cell_type": "code",
   "execution_count": 53,
   "id": "1506ce2a",
   "metadata": {},
   "outputs": [],
   "source": [
    "# Create a subset of customers who like to drink alcohol\n",
    "df_alcohol = df_current.loc[df_current['category_purchases'] == 'alcohol']"
   ]
  },
  {
   "cell_type": "code",
   "execution_count": 54,
   "id": "4a0cd584",
   "metadata": {},
   "outputs": [
    {
     "data": {
      "text/html": [
       "<div>\n",
       "<style scoped>\n",
       "    .dataframe tbody tr th:only-of-type {\n",
       "        vertical-align: middle;\n",
       "    }\n",
       "\n",
       "    .dataframe tbody tr th {\n",
       "        vertical-align: top;\n",
       "    }\n",
       "\n",
       "    .dataframe thead tr th {\n",
       "        text-align: left;\n",
       "    }\n",
       "\n",
       "    .dataframe thead tr:last-of-type th {\n",
       "        text-align: right;\n",
       "    }\n",
       "</style>\n",
       "<table border=\"1\" class=\"dataframe\">\n",
       "  <thead>\n",
       "    <tr>\n",
       "      <th></th>\n",
       "      <th colspan=\"3\" halign=\"left\">prices</th>\n",
       "    </tr>\n",
       "    <tr>\n",
       "      <th></th>\n",
       "      <th>min</th>\n",
       "      <th>max</th>\n",
       "      <th>mean</th>\n",
       "    </tr>\n",
       "    <tr>\n",
       "      <th>category_purchases</th>\n",
       "      <th></th>\n",
       "      <th></th>\n",
       "      <th></th>\n",
       "    </tr>\n",
       "  </thead>\n",
       "  <tbody>\n",
       "    <tr>\n",
       "      <th>alcohol</th>\n",
       "      <td>1.0</td>\n",
       "      <td>15.0</td>\n",
       "      <td>8.164246</td>\n",
       "    </tr>\n",
       "  </tbody>\n",
       "</table>\n",
       "</div>"
      ],
      "text/plain": [
       "                   prices                \n",
       "                      min   max      mean\n",
       "category_purchases                       \n",
       "alcohol               1.0  15.0  8.164246"
      ]
     },
     "execution_count": 54,
     "metadata": {},
     "output_type": "execute_result"
    }
   ],
   "source": [
    "# Aggregate the max, mean, and min for the ALCOHOL profile\n",
    "df_alcohol.groupby('category_purchases').agg({'prices': ['min', 'max', 'mean']})"
   ]
  },
  {
   "cell_type": "markdown",
   "id": "5015fef9",
   "metadata": {},
   "source": [
    "# 07. Create appropriate visualizations to show the distribution of profiles"
   ]
  },
  {
   "cell_type": "markdown",
   "id": "7e03aff6",
   "metadata": {},
   "source": [
    "## *Products and busiest times of the day/week*"
   ]
  },
  {
   "cell_type": "markdown",
   "id": "11007e78",
   "metadata": {},
   "source": [
    "### Busiest hour of the day"
   ]
  },
  {
   "cell_type": "code",
   "execution_count": 65,
   "id": "8cfbc3da",
   "metadata": {},
   "outputs": [
    {
     "data": {
      "image/png": "[encoded data removed]",
      "text/plain": [
       "<Figure size 432x288 with 1 Axes>"
      ]
     },
     "metadata": {
      "needs_background": "light"
     },
     "output_type": "display_data"
    }
   ],
   "source": [
    "# Create a histogram of the order_hour_of_day column\n",
    "order_hod_hist = df_current['order_hour_of_day'].plot.hist(bins = 50)\n",
    "plt.title('Busiest Hour of Day')\n",
    "plt.xlabel('24-Hour Time Format')\n",
    "plt.ylabel('# of Orders')\n",
    "plt.show()"
   ]
  },
  {
   "cell_type": "code",
   "execution_count": 60,
   "id": "17f3b5cb",
   "metadata": {},
   "outputs": [],
   "source": [
    "# Create a subset of the df_current to only hold two columns, order_hour_of_day and price\n",
    "df_current_subset = df_current[['order_hour_of_day', 'prices']]"
   ]
  },
  {
   "cell_type": "code",
   "execution_count": 61,
   "id": "d3d71fe1",
   "metadata": {},
   "outputs": [
    {
     "data": {
      "text/html": [
       "<div>\n",
       "<style scoped>\n",
       "    .dataframe tbody tr th:only-of-type {\n",
       "        vertical-align: middle;\n",
       "    }\n",
       "\n",
       "    .dataframe tbody tr th {\n",
       "        vertical-align: top;\n",
       "    }\n",
       "\n",
       "    .dataframe thead th {\n",
       "        text-align: right;\n",
       "    }\n",
       "</style>\n",
       "<table border=\"1\" class=\"dataframe\">\n",
       "  <thead>\n",
       "    <tr style=\"text-align: right;\">\n",
       "      <th></th>\n",
       "      <th>order_hour_of_day</th>\n",
       "      <th>prices</th>\n",
       "    </tr>\n",
       "  </thead>\n",
       "  <tbody>\n",
       "    <tr>\n",
       "      <th>0</th>\n",
       "      <td>8</td>\n",
       "      <td>9.0</td>\n",
       "    </tr>\n",
       "    <tr>\n",
       "      <th>2</th>\n",
       "      <td>12</td>\n",
       "      <td>9.0</td>\n",
       "    </tr>\n",
       "    <tr>\n",
       "      <th>3</th>\n",
       "      <td>7</td>\n",
       "      <td>9.0</td>\n",
       "    </tr>\n",
       "    <tr>\n",
       "      <th>6</th>\n",
       "      <td>9</td>\n",
       "      <td>9.0</td>\n",
       "    </tr>\n",
       "    <tr>\n",
       "      <th>10</th>\n",
       "      <td>8</td>\n",
       "      <td>12.5</td>\n",
       "    </tr>\n",
       "  </tbody>\n",
       "</table>\n",
       "</div>"
      ],
      "text/plain": [
       "    order_hour_of_day  prices\n",
       "0                   8     9.0\n",
       "2                  12     9.0\n",
       "3                   7     9.0\n",
       "6                   9     9.0\n",
       "10                  8    12.5"
      ]
     },
     "execution_count": 61,
     "metadata": {},
     "output_type": "execute_result"
    }
   ],
   "source": [
    "df_current_subset.head()"
   ]
  },
  {
   "cell_type": "code",
   "execution_count": 67,
   "id": "24fd4014",
   "metadata": {},
   "outputs": [
    {
     "data": {
      "text/plain": [
       "Text(0, 0.5, 'Average price')"
      ]
     },
     "execution_count": 67,
     "metadata": {},
     "output_type": "execute_result"
    },
    {
     "data": {
      "image/png": "[encoded data removed]",
      "text/plain": [
       "<Figure size 432x288 with 1 Axes>"
      ]
     },
     "metadata": {
      "needs_background": "light"
     },
     "output_type": "display_data"
    }
   ],
   "source": [
    "# Create a line graph of the order_hour_of_day column and price column to see which hours have the highest prices\n",
    "hour_price_line = sns.lineplot(data = df_current_subset, x = 'order_hour_of_day', y = 'prices')\n",
    "plt.title('Hours with Highest Average Spending')\n",
    "plt.xlabel('24 Hour Time Format')\n",
    "plt.ylabel('Average price')"
   ]
  },
  {
   "cell_type": "markdown",
   "id": "2f83a107",
   "metadata": {},
   "source": [
    "### Busiest day of the week"
   ]
  },
  {
   "cell_type": "code",
   "execution_count": 68,
   "id": "7b7fa0d9",
   "metadata": {},
   "outputs": [],
   "source": [
    "# Because the order_day_of_week column is of type int8, we will change it to type str\n",
    "df_order_str = df_current['order_day_of_week'].astype('str')"
   ]
  },
  {
   "cell_type": "code",
   "execution_count": 69,
   "id": "0d9f7b07",
   "metadata": {},
   "outputs": [
    {
     "data": {
      "text/plain": [
       "0    1773440\n",
       "1    1622224\n",
       "6    1287354\n",
       "5    1210034\n",
       "2    1207258\n",
       "3    1101020\n",
       "4    1087423\n",
       "Name: order_day_of_week, dtype: int64"
      ]
     },
     "execution_count": 69,
     "metadata": {},
     "output_type": "execute_result"
    }
   ],
   "source": [
    "df_order_str.value_counts()"
   ]
  },
  {
   "cell_type": "code",
   "execution_count": 70,
   "id": "edee9c4c",
   "metadata": {},
   "outputs": [],
   "source": [
    "# Replace the numerical values with its corresponding day values \n",
    "df_order_str.replace({\"0\": \"Saturday\", \"1\": \"Sunday\", \"2\": \"Monday\", \"3\": \"Tuesday\", \"4\": \"Wednesday\", \"5\": \"Thursday\", \"6\": \"Friday\"}, inplace=True)"
   ]
  },
  {
   "cell_type": "code",
   "execution_count": 71,
   "id": "ab87c794",
   "metadata": {},
   "outputs": [
    {
     "data": {
      "text/plain": [
       "Saturday     1773440\n",
       "Sunday       1622224\n",
       "Friday       1287354\n",
       "Thursday     1210034\n",
       "Monday       1207258\n",
       "Tuesday      1101020\n",
       "Wednesday    1087423\n",
       "Name: order_day_of_week, dtype: int64"
      ]
     },
     "execution_count": 71,
     "metadata": {},
     "output_type": "execute_result"
    }
   ],
   "source": [
    "df_order_str.value_counts()"
   ]
  },
  {
   "cell_type": "code",
   "execution_count": 72,
   "id": "68037241",
   "metadata": {},
   "outputs": [
    {
     "data": {
      "text/plain": [
       "Text(0, 0.5, '# of Orders')"
      ]
     },
     "execution_count": 72,
     "metadata": {},
     "output_type": "execute_result"
    },
    {
     "data": {
      "image/png": "[encoded data removed]",
      "text/plain": [
       "<Figure size 432x288 with 1 Axes>"
      ]
     },
     "metadata": {
      "needs_background": "light"
     },
     "output_type": "display_data"
    }
   ],
   "source": [
    "# Create a bar chart for the order_day_of_week column\n",
    "order_dow_bar = df_order_str.value_counts().loc[['Monday', 'Tuesday', 'Wednesday', 'Thursday', 'Friday', 'Saturday', 'Sunday']].plot.bar(color='teal')\n",
    "plt.title('Day of Week', fontdict = {'fontsize': 16})\n",
    "\n",
    "plt.ticklabel_format(style='plain', axis='y')\n",
    "plt.tick_params(axis='x', labelsize=14)\n",
    "plt.tick_params(axis='y', labelsize=14)\n",
    "\n",
    "plt.xlabel('Day', fontdict = {'fontsize': 14})\n",
    "plt.ylabel('# of Orders', fontdict = {'fontsize': 14})\n"
   ]
  },
  {
   "cell_type": "markdown",
   "id": "3b3d5104",
   "metadata": {},
   "source": [
    "### Popular departmental sales"
   ]
  },
  {
   "cell_type": "code",
   "execution_count": 73,
   "id": "4567c506",
   "metadata": {},
   "outputs": [
    {
     "data": {
      "image/png": "[encoded data removed]",
      "text/plain": [
       "<Figure size 1008x864 with 1 Axes>"
      ]
     },
     "metadata": {
      "needs_background": "light"
     },
     "output_type": "display_data"
    }
   ],
   "source": [
    "# Create a horizontal bar chart for the departmental purchases\n",
    "dept_bar = df_current['category_purchases'].value_counts().sort_values().plot.barh(fontsize=13, figsize=[14,12])\n",
    "plt.title('Department sales', fontdict = {'fontsize': 20})\n",
    "plt.ticklabel_format(style='plain', axis='x')\n",
    "plt.xlabel('# of items sold', fontdict = {'fontsize': 14})\n",
    "plt.show()"
   ]
  },
  {
   "cell_type": "markdown",
   "id": "73d5d110",
   "metadata": {},
   "source": [
    "## *Analysis of customer profiling*"
   ]
  },
  {
   "cell_type": "markdown",
   "id": "7d5a6126",
   "metadata": {},
   "source": [
    "### Age profile"
   ]
  },
  {
   "cell_type": "code",
   "execution_count": 74,
   "id": "f458eafb",
   "metadata": {},
   "outputs": [
    {
     "data": {
      "image/png": "[encoded data removed]",
      "text/plain": [
       "<Figure size 432x288 with 1 Axes>"
      ]
     },
     "metadata": {
      "needs_background": "light"
     },
     "output_type": "display_data"
    }
   ],
   "source": [
    "# Create a bar chart displaying the Age Profile\n",
    "age_bar = df_current['age_group'].value_counts().loc[['Young adult', 'Middle aged', 'Senior or elderly']].plot.bar(color='#629460')\n",
    "plt.title('Age groups')\n",
    "plt.show()"
   ]
  },
  {
   "cell_type": "markdown",
   "id": "0c98b6ef",
   "metadata": {},
   "source": [
    "#### The age group with the highest amount of customers are senior or elderly, with an age range of 56 and older.\n",
    "\n",
    "- Between 18 and 35 = Young adult\n",
    "- Between 36 and 55 = Middle aged\n",
    "- Greater than 55 = Senior or elderly "
   ]
  },
  {
   "cell_type": "markdown",
   "id": "a31159ee",
   "metadata": {},
   "source": [
    "### Income profile"
   ]
  },
  {
   "cell_type": "code",
   "execution_count": 75,
   "id": "4df6282f",
   "metadata": {},
   "outputs": [
    {
     "data": {
      "image/png": "[encoded data removed]",
      "text/plain": [
       "<Figure size 576x432 with 1 Axes>"
      ]
     },
     "metadata": {
      "needs_background": "light"
     },
     "output_type": "display_data"
    }
   ],
   "source": [
    "# Create a bar chart displaying the Income Profile\n",
    "income_bar = df_current['income_level'].value_counts().loc[['Low income', 'Middle income', 'High income']].plot.bar(figsize = [8,6], color='#AA7DCE')\n",
    "plt.title('Income level')\n",
    "plt.show()"
   ]
  },
  {
   "cell_type": "markdown",
   "id": "b3d29b4a",
   "metadata": {},
   "source": [
    "#### The majority of the customers earn a middle income, with salaries ranging from 55,001 to 140,000.\n",
    "\n",
    "- Less than or equal to 55,000 = Low Income\n",
    "- Between 55,001 and 140,000 inclusive = Middle income\n",
    "- Above 140,000 = High income"
   ]
  },
  {
   "cell_type": "markdown",
   "id": "c3082596",
   "metadata": {},
   "source": [
    "### Number of dependents profile"
   ]
  },
  {
   "cell_type": "code",
   "execution_count": 76,
   "id": "9cf05cf2",
   "metadata": {},
   "outputs": [
    {
     "data": {
      "text/plain": [
       "<AxesSubplot:>"
      ]
     },
     "execution_count": 76,
     "metadata": {},
     "output_type": "execute_result"
    },
    {
     "data": {
      "image/png": "[encoded data removed]",
      "text/plain": [
       "<Figure size 576x432 with 1 Axes>"
      ]
     },
     "metadata": {},
     "output_type": "display_data"
    }
   ],
   "source": [
    "# Create a pie chart displaying the Number of Dependents Profile\n",
    "dep_pie = df_current['has_dependents'].value_counts()\n",
    "dependent_pie = dep_pie.plot.pie(label = '', labels = ['Has dependents', 'No dependents'], autopct=('%1.f%%'), colors=['#8FB8DE', '#CDF7F6'], textprops={'fontsize': 15}, figsize=[8,6])\n",
    "dependent_pie"
   ]
  },
  {
   "cell_type": "code",
   "execution_count": 77,
   "id": "4577f6cb",
   "metadata": {},
   "outputs": [
    {
     "data": {
      "image/png": "[encoded data removed]",
      "text/plain": [
       "<Figure size 576x432 with 1 Axes>"
      ]
     },
     "metadata": {
      "needs_background": "light"
     },
     "output_type": "display_data"
    }
   ],
   "source": [
    "# Create a horizontal bar chart for family status \n",
    "status_bar = df_current['fam_status'].value_counts().sort_values().plot.barh(figsize = [8,6])\n",
    "plt.title('Family status')\n",
    "plt.show()"
   ]
  },
  {
   "cell_type": "markdown",
   "id": "8c6ff2e3",
   "metadata": {},
   "source": [
    "#### The most purchases were made by customers who are married."
   ]
  },
  {
   "cell_type": "markdown",
   "id": "0c870505",
   "metadata": {},
   "source": [
    "### Brand loyalty and types of customers"
   ]
  },
  {
   "cell_type": "code",
   "execution_count": 78,
   "id": "89945a0d",
   "metadata": {},
   "outputs": [
    {
     "data": {
      "text/plain": [
       "<AxesSubplot:>"
      ]
     },
     "execution_count": 78,
     "metadata": {},
     "output_type": "execute_result"
    },
    {
     "data": {
      "image/png": "[encoded data removed]",
      "text/plain": [
       "<Figure size 576x432 with 1 Axes>"
      ]
     },
     "metadata": {},
     "output_type": "display_data"
    }
   ],
   "source": [
    "# Create a pie chart based on loyalty status\n",
    "loyal = df_current['loyalty_flag'].value_counts()\n",
    "loyal_status = loyal.plot.pie(label='', labels=['Regular customer', 'Loyal customer', 'New customer'],autopct=('%1.f%%'), colors=['#6A8EAE', '#9BD1E5', '#D1FAFF'], textprops={'fontsize': 15}, figsize =[8, 6])\n",
    "loyal_status"
   ]
  },
  {
   "cell_type": "code",
   "execution_count": 79,
   "id": "5774175b",
   "metadata": {},
   "outputs": [
    {
     "data": {
      "text/html": [
       "<div>\n",
       "<style scoped>\n",
       "    .dataframe tbody tr th:only-of-type {\n",
       "        vertical-align: middle;\n",
       "    }\n",
       "\n",
       "    .dataframe tbody tr th {\n",
       "        vertical-align: top;\n",
       "    }\n",
       "\n",
       "    .dataframe thead tr th {\n",
       "        text-align: left;\n",
       "    }\n",
       "\n",
       "    .dataframe thead tr:last-of-type th {\n",
       "        text-align: right;\n",
       "    }\n",
       "</style>\n",
       "<table border=\"1\" class=\"dataframe\">\n",
       "  <thead>\n",
       "    <tr>\n",
       "      <th></th>\n",
       "      <th colspan=\"3\" halign=\"left\">median_last_order</th>\n",
       "    </tr>\n",
       "    <tr>\n",
       "      <th></th>\n",
       "      <th>min</th>\n",
       "      <th>max</th>\n",
       "      <th>mean</th>\n",
       "    </tr>\n",
       "    <tr>\n",
       "      <th>loyalty_flag</th>\n",
       "      <th></th>\n",
       "      <th></th>\n",
       "      <th></th>\n",
       "    </tr>\n",
       "  </thead>\n",
       "  <tbody>\n",
       "    <tr>\n",
       "      <th>Loyal customer</th>\n",
       "      <td>0.0</td>\n",
       "      <td>14.0</td>\n",
       "      <td>5.169604</td>\n",
       "    </tr>\n",
       "    <tr>\n",
       "      <th>New customer</th>\n",
       "      <td>0.0</td>\n",
       "      <td>30.0</td>\n",
       "      <td>18.027044</td>\n",
       "    </tr>\n",
       "    <tr>\n",
       "      <th>Regular customer</th>\n",
       "      <td>0.0</td>\n",
       "      <td>30.0</td>\n",
       "      <td>10.613464</td>\n",
       "    </tr>\n",
       "  </tbody>\n",
       "</table>\n",
       "</div>"
      ],
      "text/plain": [
       "                 median_last_order                 \n",
       "                               min   max       mean\n",
       "loyalty_flag                                       \n",
       "Loyal customer                 0.0  14.0   5.169604\n",
       "New customer                   0.0  30.0  18.027044\n",
       "Regular customer               0.0  30.0  10.613464"
      ]
     },
     "execution_count": 79,
     "metadata": {},
     "output_type": "execute_result"
    }
   ],
   "source": [
    "df_current.groupby('loyalty_flag').agg({'median_last_order': ['min', 'max', 'mean']})"
   ]
  },
  {
   "cell_type": "code",
   "execution_count": 80,
   "id": "5f96df34",
   "metadata": {},
   "outputs": [
    {
     "data": {
      "text/html": [
       "<div>\n",
       "<style scoped>\n",
       "    .dataframe tbody tr th:only-of-type {\n",
       "        vertical-align: middle;\n",
       "    }\n",
       "\n",
       "    .dataframe tbody tr th {\n",
       "        vertical-align: top;\n",
       "    }\n",
       "\n",
       "    .dataframe thead tr th {\n",
       "        text-align: left;\n",
       "    }\n",
       "\n",
       "    .dataframe thead tr:last-of-type th {\n",
       "        text-align: right;\n",
       "    }\n",
       "</style>\n",
       "<table border=\"1\" class=\"dataframe\">\n",
       "  <thead>\n",
       "    <tr>\n",
       "      <th></th>\n",
       "      <th colspan=\"3\" halign=\"left\">prices</th>\n",
       "    </tr>\n",
       "    <tr>\n",
       "      <th></th>\n",
       "      <th>min</th>\n",
       "      <th>max</th>\n",
       "      <th>mean</th>\n",
       "    </tr>\n",
       "    <tr>\n",
       "      <th>loyalty_flag</th>\n",
       "      <th></th>\n",
       "      <th></th>\n",
       "      <th></th>\n",
       "    </tr>\n",
       "  </thead>\n",
       "  <tbody>\n",
       "    <tr>\n",
       "      <th>Loyal customer</th>\n",
       "      <td>1.0</td>\n",
       "      <td>25.0</td>\n",
       "      <td>7.768915</td>\n",
       "    </tr>\n",
       "    <tr>\n",
       "      <th>New customer</th>\n",
       "      <td>1.0</td>\n",
       "      <td>25.0</td>\n",
       "      <td>7.801460</td>\n",
       "    </tr>\n",
       "    <tr>\n",
       "      <th>Regular customer</th>\n",
       "      <td>1.0</td>\n",
       "      <td>25.0</td>\n",
       "      <td>7.798146</td>\n",
       "    </tr>\n",
       "  </tbody>\n",
       "</table>\n",
       "</div>"
      ],
      "text/plain": [
       "                 prices                \n",
       "                    min   max      mean\n",
       "loyalty_flag                           \n",
       "Loyal customer      1.0  25.0  7.768915\n",
       "New customer        1.0  25.0  7.801460\n",
       "Regular customer    1.0  25.0  7.798146"
      ]
     },
     "execution_count": 80,
     "metadata": {},
     "output_type": "execute_result"
    }
   ],
   "source": [
    "df_current.groupby('loyalty_flag').agg({'prices': ['min', 'max', 'mean']})"
   ]
  },
  {
   "cell_type": "code",
   "execution_count": 81,
   "id": "8d7fa958",
   "metadata": {},
   "outputs": [
    {
     "data": {
      "text/plain": [
       "<AxesSubplot:>"
      ]
     },
     "execution_count": 81,
     "metadata": {},
     "output_type": "execute_result"
    },
    {
     "data": {
      "image/png": "[encoded data removed]",
      "text/plain": [
       "<Figure size 576x432 with 1 Axes>"
      ]
     },
     "metadata": {},
     "output_type": "display_data"
    }
   ],
   "source": [
    "# Create a pie chart for the different price products \n",
    "price_category = df_current['prices_range_label'].value_counts()\n",
    "price_ranges = price_category.plot.pie(label='', labels=['Mid range product', 'Low range product', 'High range product'],autopct=('%1.f%%'), colors=['#157145', '#57A773', '#EAFDCF'], textprops={'fontsize': 15}, figsize =[8, 6])\n",
    "price_ranges"
   ]
  },
  {
   "cell_type": "markdown",
   "id": "4462923f",
   "metadata": {},
   "source": [
    "### Ordering habits based on types of customers"
   ]
  },
  {
   "cell_type": "code",
   "execution_count": 82,
   "id": "6aaca139",
   "metadata": {},
   "outputs": [],
   "source": [
    "# Create a crosstab of the loyalty_flag and how much customers spend\n",
    "df_loyalty_price = pd.crosstab(index=df_current['prices_range_label'], columns=df_current['loyalty_flag'], normalize = \"index\")"
   ]
  },
  {
   "cell_type": "code",
   "execution_count": 83,
   "id": "642c4198",
   "metadata": {},
   "outputs": [],
   "source": [
    "# Create a crosstab to display the labels\n",
    "df_loyalty_price_label = pd.crosstab(index=df_current['prices_range_label'], columns=df_current['loyalty_flag'])"
   ]
  },
  {
   "cell_type": "code",
   "execution_count": 84,
   "id": "eb8ca7ec",
   "metadata": {},
   "outputs": [
    {
     "data": {
      "image/png": "[encoded data removed]",
      "text/plain": [
       "<Figure size 720x576 with 1 Axes>"
      ]
     },
     "metadata": {
      "needs_background": "light"
     },
     "output_type": "display_data"
    }
   ],
   "source": [
    "# Create a stacked bar chart for price range and types of customers\n",
    "loyalty_price_sbar = df_loyalty_price.loc[['Low range product', 'Mid range product', 'High range product']].plot(kind='bar', stacked=True, color=['#FFC857', '#7ADFBB', '#55917F'], figsize=[10,8])\n",
    "\n",
    "plt.title('Spending Habits by Customer Type', fontsize=20)\n",
    "plt.legend(loc=\"upper center\", ncol=3)\n",
    "plt.xlabel(\"Type of Product\")\n",
    "\n",
    "for n, y in enumerate([*df_loyalty_price_label.index.values]):\n",
    "    for (proportion, count, x_loc) in zip(df_loyalty_price.loc[y],\n",
    "                                         df_loyalty_price_label.loc[y],\n",
    "                                          df_loyalty_price.loc[y].cumsum()):\n",
    "        \n",
    "        plt.text(y=(x_loc - proportion) + (proportion / 3),\n",
    "                 x=n - 0.13,\n",
    "                 s=f'{count}\\n({np.round(proportion * 100, 1)}%)', \n",
    "                 color=\"black\",\n",
    "                 fontsize=12)\n",
    "        \n",
    "plt.show()"
   ]
  },
  {
   "cell_type": "markdown",
   "id": "a0702fd4",
   "metadata": {},
   "source": [
    "### Ordering habits based on a customer's region"
   ]
  },
  {
   "cell_type": "code",
   "execution_count": 85,
   "id": "fd98ca36",
   "metadata": {},
   "outputs": [],
   "source": [
    "# Create a crosstab for region and type of customer\n",
    "loyalty_region = pd.crosstab(index=df_current['region'], columns=df_current['loyalty_flag'], normalize=\"index\")"
   ]
  },
  {
   "cell_type": "code",
   "execution_count": 86,
   "id": "2be48276",
   "metadata": {},
   "outputs": [],
   "source": [
    "# Create a crosstab to display labels\n",
    "loyalty_region_labels = pd.crosstab(index=df_current['region'], columns=df_current['loyalty_flag'])"
   ]
  },
  {
   "cell_type": "code",
   "execution_count": 87,
   "id": "1f40ca00",
   "metadata": {},
   "outputs": [
    {
     "data": {
      "image/png": "[encoded data removed]",
      "text/plain": [
       "<Figure size 720x576 with 1 Axes>"
      ]
     },
     "metadata": {
      "needs_background": "light"
     },
     "output_type": "display_data"
    }
   ],
   "source": [
    "# Create a stacked bar chart for region and types of customers\n",
    "loyalty_region_sbar = loyalty_region.plot(kind='bar', stacked=True, color=['#ECE4B7', '#EBD2BE', '#FC9F5B'], figsize=[10,8])\n",
    "  \n",
    "plt.title('Types of Customers per Region', fontsize=20)\n",
    "plt.legend(loc=\"upper center\", ncol=3)\n",
    "plt.xlabel(\"Region\")\n",
    "\n",
    "for n, y in enumerate([*loyalty_region_labels.index.values]):\n",
    "    for (proportion, count, x_loc) in zip(loyalty_region.loc[y],\n",
    "                                         loyalty_region_labels.loc[y],\n",
    "                                          loyalty_region.loc[y].cumsum()):\n",
    "        \n",
    "        plt.text(y=(x_loc - proportion) + (proportion / 2),\n",
    "                 x=n - 0.16,\n",
    "                 s=f'{count}\\n({np.round(proportion * 100, 1)}%)', \n",
    "                 color=\"black\",\n",
    "                 fontsize=12)\n",
    "        \n",
    "plt.show()"
   ]
  },
  {
   "cell_type": "code",
   "execution_count": 88,
   "id": "71ef2fd6",
   "metadata": {},
   "outputs": [],
   "source": [
    "# Create a crosstab for region and price range\n",
    "region_price = pd.crosstab(index=df_current['region'], columns=df_current['prices_range_label'], normalize=\"index\")"
   ]
  },
  {
   "cell_type": "code",
   "execution_count": 89,
   "id": "a7e46769",
   "metadata": {},
   "outputs": [],
   "source": [
    "# Create a crosstab to display labels\n",
    "region_price_labels = pd.crosstab(index=df_current['region'], columns=df_current['prices_range_label'])"
   ]
  },
  {
   "cell_type": "code",
   "execution_count": 90,
   "id": "68f82c4b",
   "metadata": {
    "scrolled": false
   },
   "outputs": [
    {
     "data": {
      "image/png": "[encoded data removed]",
      "text/plain": [
       "<Figure size 720x576 with 1 Axes>"
      ]
     },
     "metadata": {
      "needs_background": "light"
     },
     "output_type": "display_data"
    }
   ],
   "source": [
    "# Create a stacked bar chart for region and price range\n",
    "region_price_sbar = region_price.plot(kind='bar', stacked=True, color=['#81968F', '#A8E0FF', '#B08EA2'], figsize=[10,8])\n",
    "\n",
    "plt.title('Spending Habits per Region', fontsize=20)\n",
    "plt.legend(loc=\"upper center\", ncol=3)\n",
    "plt.xlabel(\"Region\")\n",
    "\n",
    "for n, y in enumerate([*region_price_labels.index.values]):\n",
    "    for (proportion, count, x_loc) in zip(region_price.loc[y],\n",
    "                                         region_price_labels.loc[y],\n",
    "                                          region_price.loc[y].cumsum()):\n",
    "        \n",
    "        plt.text(y=(x_loc - proportion) + (proportion / 2),\n",
    "                 x=n - 0.17,\n",
    "                 s=f'{count}\\n({np.round(proportion * 100, 1)}%)', \n",
    "                 color=\"black\",\n",
    "                 fontsize=12)\n",
    "        \n",
    "plt.show()"
   ]
  },
  {
   "cell_type": "markdown",
   "id": "bc0c1eab",
   "metadata": {},
   "source": [
    "### Ordering habits based on age and family status"
   ]
  },
  {
   "cell_type": "code",
   "execution_count": 91,
   "id": "524c8a5b",
   "metadata": {},
   "outputs": [],
   "source": [
    "# Create a crosstab for age group and order frequency\n",
    "age_frequency = pd.crosstab(index=df_current['age_group'], columns=df_current['order_frequency_flag'], normalize=\"index\")"
   ]
  },
  {
   "cell_type": "code",
   "execution_count": 92,
   "id": "678fdcdd",
   "metadata": {},
   "outputs": [],
   "source": [
    "# Create a crosstab to display labels\n",
    "age_frequency_labels = pd.crosstab(index=df_current['age_group'], columns=df_current['order_frequency_flag'])"
   ]
  },
  {
   "cell_type": "code",
   "execution_count": 93,
   "id": "34d7038f",
   "metadata": {},
   "outputs": [
    {
     "data": {
      "image/png": "[encoded data removed]",
      "text/plain": [
       "<Figure size 720x720 with 1 Axes>"
      ]
     },
     "metadata": {
      "needs_background": "light"
     },
     "output_type": "display_data"
    }
   ],
   "source": [
    "# Create a stacked bar chart for age group and order frequency\n",
    "age_frequency_sbar = age_frequency.loc[['Young adult', 'Middle aged', 'Senior or elderly']].plot(kind='bar', stacked=True, color=['#5FA8D3', '#72A98F', '#B2CEDE'], figsize=[10, 10])\n",
    "\n",
    "plt.title('Order Frequency by Age Group', fontsize=20)\n",
    "plt.legend(loc=\"upper center\", ncol=3)\n",
    "plt.xlabel(\"Age Group\")\n",
    "\n",
    "for n, y in enumerate([*age_frequency_labels.index.values]):\n",
    "    for (proportion, count, x_loc) in zip(age_frequency.loc[y],\n",
    "                                         age_frequency_labels.loc[y],\n",
    "                                          age_frequency.loc[y].cumsum()):\n",
    "        \n",
    "        plt.text(y=(x_loc - proportion) + (proportion / 3),\n",
    "                 x=n - 0.12,\n",
    "                 s=f'{count}\\n({np.round(proportion * 100, 1)}%)', \n",
    "                 color=\"black\",\n",
    "                 fontsize=12)\n",
    "        \n",
    "plt.show()"
   ]
  },
  {
   "cell_type": "code",
   "execution_count": 94,
   "id": "b557fd70",
   "metadata": {},
   "outputs": [],
   "source": [
    "# Create a crosstab for age group and price range\n",
    "age_price_frequency = pd.crosstab(index=df_current['age_group'], columns=df_current['prices_range_label'], normalize=\"index\")"
   ]
  },
  {
   "cell_type": "code",
   "execution_count": 95,
   "id": "7accace3",
   "metadata": {},
   "outputs": [],
   "source": [
    "# Create a crosstab to display labels\n",
    "age_price_labels = pd.crosstab(index=df_current['age_group'], columns=df_current['prices_range_label'])"
   ]
  },
  {
   "cell_type": "code",
   "execution_count": 96,
   "id": "568a9f64",
   "metadata": {},
   "outputs": [
    {
     "data": {
      "image/png": "[encoded data removed]",
      "text/plain": [
       "<Figure size 720x576 with 1 Axes>"
      ]
     },
     "metadata": {
      "needs_background": "light"
     },
     "output_type": "display_data"
    }
   ],
   "source": [
    "# Create a stacked bar chart for age group and price range\n",
    "age_price_sbar = age_price_frequency.loc[['Young adult', 'Middle aged', 'Senior or elderly']].plot(kind='bar', stacked=True, color=['#3D518C', '#ABD2FA', '#8ACB88'], figsize=[10,8])\n",
    "\n",
    "plt.title('Price Range by Age Group', fontsize=20)\n",
    "plt.legend(loc=\"upper center\", ncol=3)\n",
    "plt.xlabel(\"Age Group\") \n",
    "\n",
    "for n, y in enumerate([*age_price_labels.index.values]):\n",
    "    for (proportion, count, x_loc) in zip(age_price_frequency.loc[y],\n",
    "                                         age_price_labels.loc[y],\n",
    "                                          age_price_frequency.loc[y].cumsum()):\n",
    "        \n",
    "        plt.text(y=(x_loc - proportion) + (proportion / 2),\n",
    "                 x=n - 0.13,\n",
    "                 s=f'{count}\\n({np.round(proportion * 100, 1)}%)', \n",
    "                 color=\"black\",\n",
    "                 fontsize=12)\n",
    "        \n",
    "plt.show()"
   ]
  },
  {
   "cell_type": "code",
   "execution_count": 97,
   "id": "70b514a5",
   "metadata": {},
   "outputs": [],
   "source": [
    "# Create a crosstab for family status and order frequency\n",
    "fam_status_frequency = pd.crosstab(index=df_current['fam_status'], columns=df_current['order_frequency_flag'], normalize=\"index\")"
   ]
  },
  {
   "cell_type": "code",
   "execution_count": 98,
   "id": "82e5bb52",
   "metadata": {},
   "outputs": [],
   "source": [
    "# Create a crosstab to display labels\n",
    "fam_status_labels = pd.crosstab(index=df_current['fam_status'], columns=df_current['order_frequency_flag'])"
   ]
  },
  {
   "cell_type": "code",
   "execution_count": 99,
   "id": "f4077b31",
   "metadata": {},
   "outputs": [
    {
     "data": {
      "image/png": "[encoded data removed]",
      "text/plain": [
       "<Figure size 864x720 with 1 Axes>"
      ]
     },
     "metadata": {
      "needs_background": "light"
     },
     "output_type": "display_data"
    }
   ],
   "source": [
    "# Create a stacked bar chart for age group and order frequency\n",
    "fam_status_frequency_sbar = fam_status_frequency.loc[['single', 'living with parents and siblings', 'married', 'divorced/widowed']].plot(kind='bar', stacked=True, color=['#00AFB9', '#7DCFB6', '#FED9B7'], figsize=[12, 10])\n",
    "\n",
    "plt.title('Order Frequency by Family Status', fontsize=20)\n",
    "plt.legend(loc=\"upper center\", ncol=3)\n",
    "plt.xlabel(\"Family Status\")\n",
    "\n",
    "for n, y in enumerate([*fam_status_labels.index.values]):\n",
    "    for (proportion, count, x_loc) in zip(fam_status_frequency.loc[y],\n",
    "                                          fam_status_labels.loc[y],\n",
    "                                          fam_status_frequency.loc[y].cumsum()):\n",
    "        \n",
    "        plt.text(y=(x_loc - proportion) + (proportion / 3),\n",
    "                 x=n - 0.12,\n",
    "                 s=f'{count}\\n({np.round(proportion * 100, 1)}%)', \n",
    "                 color=\"black\",\n",
    "                 fontsize=12)\n",
    "        \n",
    "plt.show()"
   ]
  },
  {
   "cell_type": "code",
   "execution_count": 100,
   "id": "8df5bfbf",
   "metadata": {},
   "outputs": [],
   "source": [
    "# Create a crosstab for family status and price range\n",
    "fam_status_price_frequency = pd.crosstab(index=df_current['fam_status'], columns=df_current['prices_range_label'], normalize=\"index\")"
   ]
  },
  {
   "cell_type": "code",
   "execution_count": 101,
   "id": "e29165db",
   "metadata": {},
   "outputs": [],
   "source": [
    "# Create a crosstab to display labels\n",
    "fam_status_price_labels = pd.crosstab(index=df_current['fam_status'], columns=df_current['prices_range_label'])"
   ]
  },
  {
   "cell_type": "code",
   "execution_count": 102,
   "id": "4bcc249e",
   "metadata": {},
   "outputs": [
    {
     "data": {
      "image/png": "[encoded data removed]",
      "text/plain": [
       "<Figure size 864x720 with 1 Axes>"
      ]
     },
     "metadata": {
      "needs_background": "light"
     },
     "output_type": "display_data"
    }
   ],
   "source": [
    "# Create a stacked bar chart for age group and price range\n",
    "fam_status_price_sbar = fam_status_price_frequency.loc[['single', 'living with parents and siblings', 'married', 'divorced/widowed']].plot(kind='bar', stacked=True, color=['#777DA7', '#C6ECAE', '#94C9A9'], figsize=[12,10])\n",
    "\n",
    "plt.title('Price Range by Family Status', fontsize=20)\n",
    "plt.legend(loc=\"upper center\", ncol=3)\n",
    "plt.xlabel(\"Family Status\") \n",
    "\n",
    "for n, y in enumerate([*fam_status_price_labels.index.values]):\n",
    "    for (proportion, count, x_loc) in zip(fam_status_price_frequency.loc[y],\n",
    "                                         fam_status_price_labels.loc[y],\n",
    "                                          fam_status_price_frequency.loc[y].cumsum()):\n",
    "        \n",
    "        plt.text(y=(x_loc - proportion) + (proportion / 2),\n",
    "                 x=n - 0.15,\n",
    "                 s=f'{count}\\n({np.round(proportion * 100, 1)}%)', \n",
    "                 color=\"black\",\n",
    "                 fontsize=12)\n",
    "        \n",
    "plt.show()"
   ]
  },
  {
   "cell_type": "markdown",
   "id": "74b3e56a",
   "metadata": {},
   "source": [
    "### Different classifications based on demographic information"
   ]
  },
  {
   "cell_type": "code",
   "execution_count": 103,
   "id": "45383566",
   "metadata": {},
   "outputs": [],
   "source": [
    "# Create a crosstab for age group and region\n",
    "age_region = pd.crosstab(index=df_current['region'], columns=df_current['age_group'], normalize=\"index\")"
   ]
  },
  {
   "cell_type": "code",
   "execution_count": 104,
   "id": "0d30e036",
   "metadata": {},
   "outputs": [],
   "source": [
    "# Create a crosstab to display labels\n",
    "age_region_labels = pd.crosstab(index=df_current['region'], columns=df_current['age_group'])"
   ]
  },
  {
   "cell_type": "code",
   "execution_count": 105,
   "id": "d485b9b0",
   "metadata": {},
   "outputs": [
    {
     "data": {
      "image/png": "[encoded data removed]",
      "text/plain": [
       "<Figure size 720x576 with 1 Axes>"
      ]
     },
     "metadata": {
      "needs_background": "light"
     },
     "output_type": "display_data"
    }
   ],
   "source": [
    "# Create a stacked bar chart for age group and region\n",
    "age_region_sbar = age_region.plot(kind='bar', stacked=True, color=['#9BC53D', '#FFBA08', '#6DC0D5'], figsize=[10,8])\n",
    "\n",
    "plt.title('Age Group by Region', fontsize=20)\n",
    "plt.legend(loc=\"upper center\", ncol=4)\n",
    "plt.xlabel(\"Region\")\n",
    "\n",
    "for n, y in enumerate([*age_region_labels.index.values]):\n",
    "    for (proportion, count, x_loc) in zip(age_region.loc[y],\n",
    "                                         age_region_labels.loc[y],\n",
    "                                          age_region.loc[y].cumsum()):\n",
    "        \n",
    "        plt.text(y=(x_loc - proportion) + (proportion / 2),\n",
    "                 x=n - 0.15,\n",
    "                 s=f'{count}\\n({np.round(proportion * 100, 1)}%)', \n",
    "                 color=\"black\",\n",
    "                 fontsize=12)\n",
    "        \n",
    "plt.show()"
   ]
  },
  {
   "cell_type": "code",
   "execution_count": 106,
   "id": "5d4942eb",
   "metadata": {},
   "outputs": [],
   "source": [
    "# Create a crosstab for income level and region\n",
    "income_level_region = pd.crosstab(index=df_current['region'], columns=df_current['income_level'], normalize=\"index\")"
   ]
  },
  {
   "cell_type": "code",
   "execution_count": 107,
   "id": "caa90a75",
   "metadata": {},
   "outputs": [],
   "source": [
    "# Create a crosstab to display labels\n",
    "income_level_region_labels = pd.crosstab(index=df_current['region'], columns=df_current['income_level'])"
   ]
  },
  {
   "cell_type": "code",
   "execution_count": 108,
   "id": "df057311",
   "metadata": {},
   "outputs": [
    {
     "data": {
      "image/png": "[encoded data removed]",
      "text/plain": [
       "<Figure size 720x576 with 1 Axes>"
      ]
     },
     "metadata": {
      "needs_background": "light"
     },
     "output_type": "display_data"
    }
   ],
   "source": [
    "# Create a stacked bar chart for income level and region\n",
    "income_region_sbar = income_level_region.plot(kind='bar', stacked=True, color=['#C9DCB3', '#FCBF49', '#7DBBC3'], figsize=[10,8])\n",
    "\n",
    "plt.title('Income Level by Region', fontsize=20)\n",
    "plt.legend(loc=\"upper center\", ncol=3)\n",
    "plt.xlabel(\"Region\")\n",
    "\n",
    "for n, y in enumerate([*income_level_region_labels.index.values]):\n",
    "    for (proportion, count, x_loc) in zip(income_level_region.loc[y],\n",
    "                                         income_level_region_labels.loc[y],\n",
    "                                          income_level_region.loc[y].cumsum()):\n",
    "        \n",
    "        plt.text(y=(x_loc - proportion) + (proportion / 2),\n",
    "                 x=n - 0.12,\n",
    "                 s=f'{count}\\n({np.round(proportion * 100, 1)}%)', \n",
    "                 color=\"black\",\n",
    "                 fontsize=12)\n",
    "        \n",
    "plt.show()"
   ]
  },
  {
   "cell_type": "code",
   "execution_count": 109,
   "id": "10332a94",
   "metadata": {},
   "outputs": [],
   "source": [
    "# Create a crosstab for family status and region\n",
    "family_region = pd.crosstab(index=df_current['region'], columns=df_current['fam_status'], normalize=\"index\")"
   ]
  },
  {
   "cell_type": "code",
   "execution_count": 110,
   "id": "ea87a7fe",
   "metadata": {},
   "outputs": [],
   "source": [
    "# Create a crosstab to display labels\n",
    "family_region_labels = pd.crosstab(index=df_current['region'], columns=df_current['fam_status'])"
   ]
  },
  {
   "cell_type": "code",
   "execution_count": 111,
   "id": "a598741b",
   "metadata": {},
   "outputs": [
    {
     "data": {
      "image/png": "[encoded data removed]",
      "text/plain": [
       "<Figure size 864x864 with 1 Axes>"
      ]
     },
     "metadata": {
      "needs_background": "light"
     },
     "output_type": "display_data"
    }
   ],
   "source": [
    "# Create a stacked bar chart for family status and region\n",
    "family_region_sbar = family_region.plot(kind='bar', stacked=True, color=['#F4D06F', '#C6DDF0', '#E0AFA0', '#C9DCB3'], figsize=[12,12])\n",
    "\n",
    "plt.title('Family Status by Region', fontsize=20)\n",
    "plt.legend(loc=\"upper center\", ncol=4)\n",
    "plt.xlabel(\"Region\")\n",
    "\n",
    "for n, y in enumerate([*family_region_labels.index.values]):\n",
    "    for (proportion, count, x_loc) in zip(family_region.loc[y],\n",
    "                                         family_region_labels.loc[y],\n",
    "                                          family_region.loc[y].cumsum()):\n",
    "        \n",
    "        plt.text(y=(x_loc - proportion) + (proportion / 4),\n",
    "                 x=n - 0.12,\n",
    "                 s=f'{count}\\n({np.round(proportion * 100, 1)}%)', \n",
    "                 color=\"black\",\n",
    "                 fontsize=12)\n",
    "        \n",
    "plt.show()"
   ]
  },
  {
   "cell_type": "markdown",
   "id": "a58748d5",
   "metadata": {},
   "source": [
    "### Ordering habits based on different customer profiles"
   ]
  },
  {
   "cell_type": "code",
   "execution_count": 112,
   "id": "0402dd9a",
   "metadata": {},
   "outputs": [
    {
     "data": {
      "text/plain": [
       "0    8586744\n",
       "1     702009\n",
       "Name: pet_owners, dtype: int64"
      ]
     },
     "execution_count": 112,
     "metadata": {},
     "output_type": "execute_result"
    }
   ],
   "source": [
    "df_current['pet_owners'].value_counts(dropna = False)"
   ]
  },
  {
   "cell_type": "code",
   "execution_count": 113,
   "id": "b48abb3c",
   "metadata": {},
   "outputs": [
    {
     "data": {
      "text/plain": [
       "Text(0.5, 1.0, 'Pet Products (sales profile)')"
      ]
     },
     "execution_count": 113,
     "metadata": {},
     "output_type": "execute_result"
    },
    {
     "data": {
      "image/png": "[encoded data removed]",
      "text/plain": [
       "<Figure size 720x576 with 1 Axes>"
      ]
     },
     "metadata": {},
     "output_type": "display_data"
    }
   ],
   "source": [
    "# Create a pie chart for the pet owners profile\n",
    "sns.set(rc = {'figure.figsize':(10,8)})\n",
    "pet_pie = df_current['pet_owners'].value_counts().plot.pie(label='', labels=['has not purchased pet products', 'has purchased pet products'],autopct=('%1.f%%'), colors=['#6A8EAE', '#9BD1E5'], textprops = {'fontsize': 15})\n",
    "plt.title('Pet Products (sales profile)', fontdict = {'fontsize': 20})"
   ]
  },
  {
   "cell_type": "code",
   "execution_count": 114,
   "id": "c29ee798",
   "metadata": {},
   "outputs": [
    {
     "data": {
      "text/plain": [
       "0    7023318\n",
       "1    2265435\n",
       "Name: baby_status, dtype: int64"
      ]
     },
     "execution_count": 114,
     "metadata": {},
     "output_type": "execute_result"
    }
   ],
   "source": [
    "df_current['baby_status'].value_counts(dropna = False)"
   ]
  },
  {
   "cell_type": "code",
   "execution_count": 115,
   "id": "792cca0c",
   "metadata": {},
   "outputs": [
    {
     "data": {
      "text/plain": [
       "Text(0.5, 1.0, 'Baby Products (sales profile)')"
      ]
     },
     "execution_count": 115,
     "metadata": {},
     "output_type": "execute_result"
    },
    {
     "data": {
      "image/png": "[encoded data removed]",
      "text/plain": [
       "<Figure size 720x576 with 1 Axes>"
      ]
     },
     "metadata": {},
     "output_type": "display_data"
    }
   ],
   "source": [
    "# Create a pie chart for the new parents profile\n",
    "new_parents = df_current['baby_status'].value_counts().plot.pie(label='', labels=['has not purchased baby products', 'has purchased baby products'],autopct=('%1.f%%'), colors=['#6A8EAE', '#9BD1E5'], textprops = {'fontsize': 15})\n",
    "plt.title('Baby Products (sales profile)', fontdict = {'fontsize': 20})"
   ]
  },
  {
   "cell_type": "code",
   "execution_count": 116,
   "id": "22189b65",
   "metadata": {},
   "outputs": [
    {
     "data": {
      "text/plain": [
       "0    8758198\n",
       "1     530555\n",
       "Name: alcohol_status, dtype: int64"
      ]
     },
     "execution_count": 116,
     "metadata": {},
     "output_type": "execute_result"
    }
   ],
   "source": [
    "df_current['alcohol_status'].value_counts(dropna = False)"
   ]
  },
  {
   "cell_type": "code",
   "execution_count": 117,
   "id": "230ecd90",
   "metadata": {},
   "outputs": [
    {
     "data": {
      "text/plain": [
       "Text(0.5, 1.0, 'Alcoholic Beverages (sales profile)')"
      ]
     },
     "execution_count": 117,
     "metadata": {},
     "output_type": "execute_result"
    },
    {
     "data": {
      "image/png": "[encoded data removed]",
      "text/plain": [
       "<Figure size 720x576 with 1 Axes>"
      ]
     },
     "metadata": {},
     "output_type": "display_data"
    }
   ],
   "source": [
    "# Create a pie chart for the alcohol status profile\n",
    "alcohol_drinker = df_current['alcohol_status'].value_counts().plot.pie(label='', labels=['has not purchased alcohol', 'has purchased alcohol'],autopct=('%1.f%%'), colors=['#6A8EAE', '#9BD1E5'], textprops = {'fontsize': 15})\n",
    "plt.title('Alcoholic Beverages (sales profile)', fontdict = {'fontsize': 20})"
   ]
  },
  {
   "cell_type": "markdown",
   "id": "3cb63be5",
   "metadata": {},
   "source": [
    "# 08. Export the visualizations"
   ]
  },
  {
   "cell_type": "code",
   "execution_count": 118,
   "id": "1d210819",
   "metadata": {},
   "outputs": [],
   "source": [
    "# Export the final dataset\n",
    "df_current.to_pickle(os.path.join (path, '02 Data', 'Prepared Data', 'final_instacart_dataset.pkl'))"
   ]
  },
  {
   "cell_type": "code",
   "execution_count": 119,
   "id": "273e7b17",
   "metadata": {},
   "outputs": [],
   "source": [
    "# Export the order_hod_hist \n",
    "order_hod_hist.figure.savefig((os.path.join (path, '04 Analysis', 'Visualizations', 'order_hod_hist.png')))"
   ]
  },
  {
   "cell_type": "code",
   "execution_count": 140,
   "id": "7a20b73f",
   "metadata": {},
   "outputs": [],
   "source": [
    "# Export the hour_price_line line chart\n",
    "hour_price_line.figure.savefig(os.path.join (path, '04 Analysis', 'Visualizations', 'hour_price_line.png'))"
   ]
  },
  {
   "cell_type": "code",
   "execution_count": 120,
   "id": "10ec578c",
   "metadata": {},
   "outputs": [],
   "source": [
    "# Export the order_dow bar chart\n",
    "order_dow_bar.figure.savefig(os.path.join (path, '04 Analysis', 'Visualizations', 'order_dow_bar_chart.png'))"
   ]
  },
  {
   "cell_type": "code",
   "execution_count": 121,
   "id": "8aebf217",
   "metadata": {},
   "outputs": [],
   "source": [
    "# Export the category_purchases horizontal bar chart\n",
    "dept_bar.figure.savefig(os.path.join (path, '04 Analysis', 'Visualizations', 'departmental_hbar_chart.png'))"
   ]
  },
  {
   "cell_type": "code",
   "execution_count": 122,
   "id": "1ed51904",
   "metadata": {},
   "outputs": [],
   "source": [
    "# Export the age_group bar chart\n",
    "age_bar.figure.savefig(os.path.join (path, '04 Analysis', 'Visualizations', 'age_group_bar_chart.png'))"
   ]
  },
  {
   "cell_type": "code",
   "execution_count": 123,
   "id": "5e819df8",
   "metadata": {},
   "outputs": [],
   "source": [
    "# Export the income_level bar chart\n",
    "income_bar.figure.savefig(os.path.join (path, '04 Analysis', 'Visualizations', 'income_level_bar_chart.png'))"
   ]
  },
  {
   "cell_type": "code",
   "execution_count": 124,
   "id": "f286cfbe",
   "metadata": {},
   "outputs": [],
   "source": [
    "# Export the has_dependents pie chart\n",
    "dependent_pie.figure.savefig(os.path.join (path, '04 Analysis', 'Visualizations', 'dependents_pie_chart.png'))"
   ]
  },
  {
   "cell_type": "code",
   "execution_count": 125,
   "id": "72ee155b",
   "metadata": {},
   "outputs": [],
   "source": [
    "# Export the family status horizontal bar chart\n",
    "status_bar.figure.savefig(os.path.join (path, '04 Analysis', 'Visualizations', 'fam_status_hbar_chart.png'))"
   ]
  },
  {
   "cell_type": "code",
   "execution_count": 126,
   "id": "29ab31cc",
   "metadata": {},
   "outputs": [],
   "source": [
    "# Export the loyal customers pie chart\n",
    "loyal_status.figure.savefig(os.path.join (path, '04 Analysis', 'Visualizations', 'loyal_status_pie_chart.png'))"
   ]
  },
  {
   "cell_type": "code",
   "execution_count": 127,
   "id": "5812b752",
   "metadata": {},
   "outputs": [],
   "source": [
    "# Export the product range pie chart\n",
    "price_ranges.figure.savefig(os.path.join (path, '04 Analysis', 'Visualizations', 'price_range_pie_chart.png'))"
   ]
  },
  {
   "cell_type": "code",
   "execution_count": 128,
   "id": "6ee5f039",
   "metadata": {},
   "outputs": [],
   "source": [
    "# Export the price and customer stacked bar chart\n",
    "loyalty_price_sbar.figure.savefig(os.path.join (path, '04 Analysis', 'Visualizations', 'price_customer_sbar.png'))"
   ]
  },
  {
   "cell_type": "code",
   "execution_count": 129,
   "id": "f2173340",
   "metadata": {},
   "outputs": [],
   "source": [
    "# Export the region and customer stacked bar chart\n",
    "loyalty_region_sbar.figure.savefig(os.path.join (path, '04 Analysis', 'Visualizations', 'region_customer_sbar.png'))"
   ]
  },
  {
   "cell_type": "code",
   "execution_count": 130,
   "id": "2093997a",
   "metadata": {},
   "outputs": [],
   "source": [
    "# Export the age group and order frequency stacked bar chart\n",
    "age_frequency_sbar.figure.savefig(os.path.join (path, '04 Analysis', 'Visualizations', 'age_frequency_sbar.png'))"
   ]
  },
  {
   "cell_type": "code",
   "execution_count": 131,
   "id": "332c7728",
   "metadata": {},
   "outputs": [],
   "source": [
    "# Export the age group and price range stacked bar chart\n",
    "age_price_sbar.figure.savefig(os.path.join (path, '04 Analysis', 'Visualizations', 'age_price_sbar.png'))"
   ]
  },
  {
   "cell_type": "code",
   "execution_count": 132,
   "id": "af60896e",
   "metadata": {},
   "outputs": [],
   "source": [
    "# Export the family status and order frequency stacked bar chart\n",
    "fam_status_frequency_sbar.figure.savefig(os.path.join (path, '04 Analysis', 'Visualizations', 'fam_status_frequency_sbar.png'))"
   ]
  },
  {
   "cell_type": "code",
   "execution_count": 133,
   "id": "d69cf5b5",
   "metadata": {},
   "outputs": [],
   "source": [
    "# Export the family status and price range stacked bar chart\n",
    "fam_status_price_sbar.figure.savefig(os.path.join (path, '04 Analysis', 'Visualizations', 'fam_status_price_sbar.png'))"
   ]
  },
  {
   "cell_type": "code",
   "execution_count": 134,
   "id": "6c253056",
   "metadata": {},
   "outputs": [],
   "source": [
    "# Export the age group and region stacked bar chart\n",
    "age_region_sbar.figure.savefig(os.path.join (path, '04 Analysis', 'Visualizations', 'age_region_sbar.png'))"
   ]
  },
  {
   "cell_type": "code",
   "execution_count": 135,
   "id": "b6be4cf9",
   "metadata": {},
   "outputs": [],
   "source": [
    "# Export the income level and region stacked bar chart\n",
    "income_region_sbar.figure.savefig(os.path.join (path, '04 Analysis', 'Visualizations', 'income_region_sbar.png'))"
   ]
  },
  {
   "cell_type": "code",
   "execution_count": 136,
   "id": "31324a68",
   "metadata": {},
   "outputs": [],
   "source": [
    "# Export the family status and region stacked bar chart\n",
    "family_region_sbar.figure.savefig(os.path.join (path, '04 Analysis', 'Visualizations', 'family_region_sbar.png'))"
   ]
  },
  {
   "cell_type": "code",
   "execution_count": 137,
   "id": "0a764886",
   "metadata": {},
   "outputs": [],
   "source": [
    "# Export the pet owners pie chart\n",
    "pet_pie.figure.savefig(os.path.join (path, '04 Analysis', 'Visualizations', 'pet_owners_pie.png'))"
   ]
  },
  {
   "cell_type": "code",
   "execution_count": 138,
   "id": "fa542bdf",
   "metadata": {},
   "outputs": [],
   "source": [
    "# Export the baby status pie chart\n",
    "new_parents.figure.savefig(os.path.join (path, '04 Analysis', 'Visualizations', 'new_parents_pie.png'))"
   ]
  },
  {
   "cell_type": "code",
   "execution_count": 139,
   "id": "c0eb6883",
   "metadata": {},
   "outputs": [],
   "source": [
    "# Export the baby status pie chart\n",
    "alcohol_drinker.figure.savefig(os.path.join (path, '04 Analysis', 'Visualizations', 'alcoholic_pie.png'))"
   ]
  }
 ],
 "metadata": {
  "kernelspec": {
   "display_name": "Python 3 (ipykernel)",
   "language": "python",
   "name": "python3"
  },
  "language_info": {
   "codemirror_mode": {
    "name": "ipython",
    "version": 3
   },
   "file_extension": ".py",
   "mimetype": "text/x-python",
   "name": "python",
   "nbconvert_exporter": "python",
   "pygments_lexer": "ipython3",
   "version": "3.9.12"
  }
 },
 "nbformat": 4,
 "nbformat_minor": 5
}
